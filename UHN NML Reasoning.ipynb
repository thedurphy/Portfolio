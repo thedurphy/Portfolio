{
 "cells": [
  {
   "cell_type": "markdown",
   "metadata": {},
   "source": [
    "# Table of Contents\n",
    "\n",
    "* [A. Introduction ](#intro)\n",
    "    * [Method/Logic ](#method)\n",
    "* [B. Determining what the Participant is Asking for ](#ask)\n",
    "    * [The ASK coefficient ](#Taskcoef)\n",
    "* [C. Determining what the Participant can Offer ](#offer)\n",
    "* [D. Bringing it together : Synergy ](#synergy)\n",
    "    * [Explanation: ](#explanation)\n",
    "    * [Interpretation of the Synergy Score ](#interpretation)\n",
    "    * [Synergy Heatmap ](#heatmap)\n",
    "    * [Stats ](#stats)\n"
   ]
  },
  {
   "cell_type": "markdown",
   "metadata": {},
   "source": [
    "# A. Introduction <a name=\"intro\"></a>"
   ]
  },
  {
   "cell_type": "markdown",
   "metadata": {},
   "source": [
    "The UHN NML dataset contains 72 participants that are to be paired in a mentor/mentee setup.  Here are some parameters to work with.\n",
    "- Between 72 participants, there are 3 roles : Facility Contractor, Hybrid Contractor, and Leader of Other Contractors.\n",
    "- All pairs must be within roles.  In other words, no one can be paired with someone that do not share the same role.\n",
    "- Mentor and Mentee categories are not predetermined, therefore, must be assigned.\n",
    "- The setup is a typical Ask/Offer optimization problem: Match one person's Asks to another person's Offers in a way where the Asker's areas of development are satisfied by the offerer to the max.\n",
    "- Each participant has 2 explicitly mentioned areas of development, **Market** : what they believe the market needs for development and **Personal** : what they need for development.\n",
    "- Each participant has an explicit section for what they can offer plus a section for each area where participants can declare other participants as being proficient in said area.\n",
    "- We have open-text entries for each participants where they declare hobbies, community involvement, developmental goals, and their ideal weekend.  We also have discrete attributes like time-zone, behavioral style, etc."
   ]
  },
  {
   "cell_type": "markdown",
   "metadata": {},
   "source": [
    "## Method/Logic <a name=\"method\"></a>"
   ]
  },
  {
   "cell_type": "markdown",
   "metadata": {},
   "source": [
    "1. The **Primary** fields of interest are the explicit, non-open-text declarations followed by implicit declarations and then by the remaining open-text fields if an optimization decision has not been reached from the previous criteria.\n",
    "2. The open-text situations are easily interpretable so this explanation sheet will concentrated on the the several other fields which allow participants to explicitly declare their needs, what the can offer, and what others think they can offer.\n",
    "3. The following sections will run through the quantification of **ASK** and **OFFER** from discrete variables declared in the `ASK_Market`, `ASK_Personal`, `OFFER`, and participant endorsed areas of proficiency.\n",
    "4. The marriage of these distinct metrics will give us the **Synergy Score** - How much a participant can gain from what another person can offer.\n",
    "5. For any given pair (A, B), **Synergy Score** is directional to how much B can give to A, not vice-versa.  So, $$Synergy(A,B) \\neq Synergy(B,A)$$.  This does not mean the values cannot be the same, it is just that the *meaning* changes.  So we can say generally, for each pair, A|B, there will actually be two **Synergy Scores** with respect to the receiver."
   ]
  },
  {
   "cell_type": "markdown",
   "metadata": {},
   "source": [
    "# B. Determining what the Participant is Asking for <a name=\"ask\"></a>"
   ]
  },
  {
   "cell_type": "markdown",
   "metadata": {},
   "source": [
    "Three areas tell us what the participants are asking for, explicitly and implicitly.  **Market** development is what the participant deems important for the market to grow while **Personal** development is what the participants deem as important for themselves to grow.  In each area, the participant ranks from 1(highest) to 10(lowest) in what they determine as important.  Since these are Mentor/Mentee Pairs, **Personal** development takes slight precedence, however, we can still derive important attributes from the **Market** development rankings in combination with the third area, **OFFER** (what they an offer to someone else's development), that actually contribute to **Personal** development.  More on that later.\n",
    "\n",
    "1. Explicit Derivations\n",
    "  -`ASK_Personal` contains information on the **Personal** development rankings.  Since 1 is high and 10 is low, we will simply take the inverse of the rankings ($1/x$) so a rank of 1 = $1/1 = 1$ while a rank of 10 = $1/10 = 0.1$.  Each of the **Personal** development areas will be given this point value.\n",
    "2. Implicit Derivations\n",
    "  -`ASK_Market` contains information on what **Market** development rankings.  We treat this the same way as the `ASK_Market` area and turn the ranking into the inverse.  As I mentioned earlier, this section will be used with the **OFFER** section. Here is how.  The **Market** development rankings tell us what the participant deems important to the market as a whole.  If what they deem as important to the *Market* is not found in what they can *Offer*, we can imply that what is not included in the *Offer* area is an area they can improve upon and will take seriously in making improvements since they deem it important to the Market.  We will take into consideration **only** the areas that are not in the **OFFER** when creating the final **ASK** multiplier.  Now a little about the **OFFER** section.\n",
    "  -`OFFER` contains what the participant believes they excel at and can offer to help someone else's development.  It simply states any of the various *areas* of development so there is no ranking.  There is an additional way of having an area mentioned here but that does not effect the final calculation for **ASK**.  We will go over that later."
   ]
  },
  {
   "cell_type": "markdown",
   "metadata": {},
   "source": [
    "## The ASK coefficient <a name=\"askcoef\"></a>"
   ]
  },
  {
   "cell_type": "markdown",
   "metadata": {},
   "source": [
    "Adding the calculations from the **Explicit Derivations** and the **Implicit Derivations**, each *area* will have a point value.  This is the **ASK coefficient**.  We will use this in conjunction with other participants' **Offer rating** to produce the final metric for determining compatibility.  An example of calculating the **ASK coefficient** would be the following.\n",
    "\n",
    "Example `ASK_Personal` values:\n",
    "```\n",
    "A. Quality Scores                             0.111111\n",
    "B. Building Relationships – Internal          0.250000\n",
    "C. Building Relationships – External          0.125000\n",
    "D. Promoting Cultural Values                  0.100000\n",
    "E. Best In Class Development                  0.500000\n",
    "F. Growth Strategy                            1.000000\n",
    "G. Employee Engagement/Development            0.200000\n",
    "H. NPS                                        0.142857\n",
    "I. Affordability                              0.166667\n",
    "J. Value-Based Contracting/ACO Development    0.333333\n",
    "```"
   ]
  },
  {
   "cell_type": "markdown",
   "metadata": {},
   "source": [
    "- from this you can see the Growth Strategy is considered the most important to this participant since $1/1(rank) = 1$\n",
    "\n",
    "Example `ASK_Market` values:\n",
    "```\n",
    "A. Quality Scores                             0.125000\n",
    "B. Building Relationships – Internal          0.333333\n",
    "C. Building Relationships – External          0.500000\n",
    "D. Promoting Cultural Values                  0.100000\n",
    "E. Best In Class Development                  0.142857\n",
    "F. Growth Strategy                            1.000000\n",
    "G. Employee Engagement/Development            0.166667\n",
    "H. NPS                                        0.250000\n",
    "I. Affordability                              0.111111\n",
    "J. Value-Based Contracting/ACO Development    0.200000\n",
    "```"
   ]
  },
  {
   "cell_type": "markdown",
   "metadata": {},
   "source": [
    "Example `OFFER` values **not** mentioned as being proficient:\n",
    "```\n",
    "B. Building Relationships – Internal\n",
    "D. Promoting Cultural Values\n",
    "E. Best In Class Development\n",
    "G. Employee Engagement/Development\n",
    "I. Affordability\n",
    "J. Value-Based Contracting/ACO Development\n",
    "```"
   ]
  },
  {
   "cell_type": "markdown",
   "metadata": {},
   "source": [
    "Now if we add only the values in `ASK_Market` that were not mentioned in `OFFER` to the values in `ASK_Personal` we get:\n",
    "```\n",
    "A. Quality Scores                             0.111111\n",
    "B. Building Relationships – Internal          0.583333\n",
    "C. Building Relationships – External          0.125000\n",
    "D. Promoting Cultural Values                  0.200000\n",
    "E. Best In Class Development                  0.642857\n",
    "F. Growth Strategy                            1.000000\n",
    "G. Employee Engagement/Development            0.366667\n",
    "H. NPS                                        0.142857\n",
    "I. Affordability                              0.277778\n",
    "J. Value-Based Contracting/ACO Development    0.533333\n",
    "```"
   ]
  },
  {
   "cell_type": "markdown",
   "metadata": {},
   "source": [
    "These will be the final weights applied to the metrics in the following section, **OFFER**."
   ]
  },
  {
   "cell_type": "markdown",
   "metadata": {},
   "source": [
    "# C. Determining what the Participant can Offer <a name=\"offer\"></a>"
   ]
  },
  {
   "cell_type": "markdown",
   "metadata": {},
   "source": [
    "The areas we will be looking at for determining the **OFFER** of a participant will be the `ASK_Market` and `OFFER` sheets.  Previously, we have determined the inverse point values in the `ASK_Market` area.  I also mentioned that there is an additional way to have an area considered in the `OFFER` area.  Each area, lettered `A-J` above, have their respective sheets that allow  participants to name other participants who they deem are proficient in a certain area.  Each mention will be worth 0.2 points which will be added to the `OFFER` section.  Within the `OFFER` section, each self-proclaimed proficiency is worth 1.0 point.  The reason for the different weights were a suggestion based on the fact that if the participant declares their own proficiency in an area, they are more willing to offer better input for others that need to develop that area.  We will take the accumulated points in the `OFFER` section, between what the participants think they are proficient in and what others have endorsed, and then add then to the the inverse points accumulated in the `ASK_Market` section.  The reason being is that the `ASK_Market` section is a representation of what the participant things will help develop the market in general.  This joined with what they think can offer plus what others thing they offer is the overall **Offer Rating**.\n",
    "\n",
    "Example `ASK_Market` values:\n",
    "```\n",
    "A. Quality Scores                             0.100000\n",
    "B. Building Relationships – Internal          0.333333\n",
    "C. Building Relationships – External          0.500000\n",
    "D. Promoting Cultural Values                  0.111111\n",
    "E. Best In Class Development                  1.000000\n",
    "F. Growth Strategy                            0.125000\n",
    "G. Employee Engagement/Development            0.142857\n",
    "H. NPS                                        0.250000\n",
    "I. Affordability                              0.166667\n",
    "J. Value-Based Contracting/ACO Development    0.200000\n",
    "```"
   ]
  },
  {
   "cell_type": "markdown",
   "metadata": {},
   "source": [
    "Example `OFFER` values after we conver the self-designated proficiencies with a value of 1:\n",
    "```\n",
    "A. Quality Scores                             0.0\n",
    "B. Building Relationships – Internal          1.0\n",
    "C. Building Relationships – External          1.0\n",
    "D. Promoting Cultural Values                  0.0\n",
    "E. Best In Class Development                  1.0\n",
    "F. Growth Strategy                            0.0\n",
    "G. Employee Engagement/Development            1.0\n",
    "H. NPS                                        0.0\n",
    "I. Affordability                              0.0\n",
    "J. Value-Based Contracting/ACO Development    1.0\n",
    "```"
   ]
  },
  {
   "cell_type": "markdown",
   "metadata": {},
   "source": [
    "Example count of endorsed areas for a particular person:\n",
    "```\n",
    "A. Quality Scores                             2\n",
    "B. Building Relationships – Internal          3\n",
    "C. Building Relationships – External          2\n",
    "D. Promoting Cultural Values                  4\n",
    "E. Best In Class Development                  3\n",
    "F. Growth Strategy                            2\n",
    "G. Employee Engagement/Development            3\n",
    "H. NPS                                        3\n",
    "I. Affordability                              4\n",
    "J. Value-Based Contracting/ACO Development    3\n",
    "```"
   ]
  },
  {
   "cell_type": "markdown",
   "metadata": {},
   "source": [
    "Then we multiply them by the weight of 0.2:\n",
    "```\n",
    "A. Quality Scores                             0.4\n",
    "B. Building Relationships – Internal          0.6\n",
    "C. Building Relationships – External          0.4\n",
    "D. Promoting Cultural Values                  0.8\n",
    "E. Best In Class Development                  0.6\n",
    "F. Growth Strategy                            0.4\n",
    "G. Employee Engagement/Development            0.6\n",
    "H. NPS                                        0.6\n",
    "I. Affordability                              0.8\n",
    "J. Value-Based Contracting/ACO Development    0.6\n",
    "```"
   ]
  },
  {
   "cell_type": "markdown",
   "metadata": {},
   "source": [
    "We take the weight endorsements + self-endorsed `OFFER` + `ASK_Market` to achieve:\n",
    "```\n",
    "A. Quality Scores                             0.500000\n",
    "B. Building Relationships – Internal          1.933333\n",
    "C. Building Relationships – External          1.900000\n",
    "D. Promoting Cultural Values                  0.911111\n",
    "E. Best In Class Development                  2.600000\n",
    "F. Growth Strategy                            0.525000\n",
    "G. Employee Engagement/Development            1.742857\n",
    "H. NPS                                        0.850000\n",
    "I. Affordability                              0.966667\n",
    "J. Value-Based Contracting/ACO Development    1.800000\n",
    "```"
   ]
  },
  {
   "cell_type": "markdown",
   "metadata": {},
   "source": [
    "- This will be our **OFFER** ratings for each of the areas of importance."
   ]
  },
  {
   "cell_type": "markdown",
   "metadata": {},
   "source": [
    "# D. Bringing it together : Synergy <a name=\"synergy\"></a>"
   ]
  },
  {
   "cell_type": "markdown",
   "metadata": {},
   "source": [
    "Given a participant, A, whom we are considering as the *asker* and another participant, B, whom will consider the offerer, we can take the average product ask X offer like the following... $$mean(ASKcoeffient(A)*OFFERrating(B))$$\n",
    "\n",
    "For example, in finding if person A can gain from person B's offerings, we would do the following.\n",
    "\n",
    "**ask(A)**\n",
    "```\n",
    "A. Quality Scores                             0.200000\n",
    "B. Building Relationships – Internal          1.000000\n",
    "C. Building Relationships – External          0.500000\n",
    "D. Promoting Cultural Values                  0.125000\n",
    "E. Best In Class Development                  0.392857\n",
    "F. Growth Strategy                            0.222222\n",
    "G. Employee Engagement/Development            0.366667\n",
    "H. NPS                                        0.309524\n",
    "I. Affordability                              0.583333\n",
    "J. Value-Based Contracting/ACO Development    0.458333\n",
    "```"
   ]
  },
  {
   "cell_type": "markdown",
   "metadata": {},
   "source": [
    "...multplied by the **offering(B)**\n",
    "```\n",
    "A. Quality Scores                             0.500000\n",
    "B. Building Relationships – Internal          1.933333\n",
    "C. Building Relationships – External          1.900000\n",
    "D. Promoting Cultural Values                  0.911111\n",
    "E. Best In Class Development                  2.600000\n",
    "F. Growth Strategy                            0.525000\n",
    "G. Employee Engagement/Development            1.742857\n",
    "H. NPS                                        0.850000\n",
    "I. Affordability                              0.966667\n",
    "J. Value-Based Contracting/ACO Development    1.800000\n",
    "```"
   ]
  },
  {
   "cell_type": "markdown",
   "metadata": {},
   "source": [
    "Then we take the average of the product...\n",
    "$$Synergy(A,B) = 0.65263492063492068$$"
   ]
  },
  {
   "cell_type": "markdown",
   "metadata": {},
   "source": [
    "## Explanation: <a name=\"explanation\"></a>"
   ]
  },
  {
   "cell_type": "markdown",
   "metadata": {},
   "source": [
    "During the **ASK** period, we determined what the the asker **(participant A)** deems important to learn while during the **OFFER** phase we determine what the offerer **(participant B)** can *offer* in general.  Multiplying them together weights the offerings by what the asker is asking for.  So even if you offer rating for an area is really high, the value is cut own by how much the asker is demanding to develop in said area.  Taking an average of synergy of all the areas, you can determine the average synergy between the asker and the offerer.  In the case above, $0.65263492063492068$, which is actually fairly high."
   ]
  },
  {
   "cell_type": "markdown",
   "metadata": {},
   "source": [
    "## Interpretation of the Synergy Score <a name=\"interpretation\"></a>"
   ]
  },
  {
   "cell_type": "markdown",
   "metadata": {},
   "source": [
    "The **Synergy Score** can be defined in general terms as the degree at which a participant's (A) **Explicit** *and* **Implicit** needs are satisfied by another participant (B).  Simply put, how much does person B offer to person A with respect to person A's needs.  \n",
    "Notes:\n",
    "1. **Synergy Score** is a directional score, meaning, the score does not have to be symmetrical.  In fact, in meaning, it is never the same.  It is always how much participant B is offering participant A and cannot be reversed in meaning. $Synergy(A,B) \\neq Synergy(B,A)$ is possible.\n",
    "2. The score, in this case, is also dependent on how others view a particular participant.  We've weighted those inputs $1/5$ of how a participant views themselves.  I must note that one could easily justify a different weight depending on the situation."
   ]
  },
  {
   "cell_type": "markdown",
   "metadata": {},
   "source": [
    "## Synergy Heatmap <a name=\"heatmap\"></a>"
   ]
  },
  {
   "cell_type": "markdown",
   "metadata": {},
   "source": [
    "![Synergy Heatmap](https://i.gyazo.com/3b5c7ec409ee42ed3881526bb82c2c63.png)\n",
    "\n",
    "- Above, you will see the resulting heat map of 72 participants across 3 business segments.  \n",
    "- Any **Synergy** score of $0$ represents either a mirror cross-section, meaning we are trying to calculate synergy between the same person $Synergy(A,A)$ or that synergy is trying to be calculated with someone outside their business segment and since we, in this situation, are only allowed to be paired with people within business segments, the synergy score will result in $0$.\n",
    "- The darker areas are high **Synergy Score** with respect to the x-axis."
   ]
  },
  {
   "cell_type": "markdown",
   "metadata": {},
   "source": [
    "## Stats <a name=\"stats\"></a>"
   ]
  },
  {
   "cell_type": "markdown",
   "metadata": {},
   "source": [
    "```\n",
    "count    3824.000000\n",
    "mean        0.463021\n",
    "std         0.168736\n",
    "min         0.137864\n",
    "25%         0.338710\n",
    "50%         0.444534\n",
    "75%         0.566391\n",
    "max         1.290777\n",
    "```"
   ]
  },
  {
   "cell_type": "markdown",
   "metadata": {},
   "source": [
    "- We can see that, excluding synergy calculations to self and people outside their roles, we have 3824 directional connections.\n",
    "- The average **Synergy** = $0.463021$\n",
    "- Max = $1.29$ and Min = $0.1687$\n",
    "- This will give us some reference points to start grouping."
   ]
  }
 ],
 "metadata": {
  "kernelspec": {
   "display_name": "Python 3",
   "language": "python",
   "name": "python3"
  },
  "language_info": {
   "codemirror_mode": {
    "name": "ipython",
    "version": 3
   },
   "file_extension": ".py",
   "mimetype": "text/x-python",
   "name": "python",
   "nbconvert_exporter": "python",
   "pygments_lexer": "ipython3",
   "version": "3.6.4"
  }
 },
 "nbformat": 4,
 "nbformat_minor": 2
}
