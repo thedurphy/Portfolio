{
 "cells": [
  {
   "cell_type": "markdown",
   "metadata": {},
   "source": [
    "# EIT 2018 Dataset"
   ]
  },
  {
   "cell_type": "code",
   "execution_count": 1,
   "metadata": {},
   "outputs": [],
   "source": [
    "import pandas as pd\n",
    "import numpy as np"
   ]
  },
  {
   "cell_type": "code",
   "execution_count": 2,
   "metadata": {},
   "outputs": [],
   "source": [
    "eit_participants = pd.read_excel('eit2018.xlsx', sheetname = 'Participants')\n",
    "eit_marketplace = pd.read_excel('eit2018.xlsx', sheetname = 'Marketplace')\n",
    "eit_meetings = pd.read_excel('eit2018.xlsx', sheetname = 'Meetings')"
   ]
  },
  {
   "cell_type": "code",
   "execution_count": 3,
   "metadata": {},
   "outputs": [
    {
     "name": "stdout",
     "output_type": "stream",
     "text": [
      "<class 'pandas.core.frame.DataFrame'>\n",
      "RangeIndex: 295 entries, 0 to 294\n",
      "Data columns (total 16 columns):\n",
      "Activated                                                                                                                      295 non-null bool\n",
      "Email                                                                                                                          295 non-null object\n",
      "First Name                                                                                                                     295 non-null object\n",
      "Last Name                                                                                                                      295 non-null object\n",
      "Job description                                                                                                                295 non-null object\n",
      "Organisation                                                                                                                   295 non-null object\n",
      "Organisation Type                                                                                                              295 non-null object\n",
      "Areas of Activity                                                                                                              295 non-null object\n",
      "Country                                                                                                                        295 non-null object\n",
      "City                                                                                                                           295 non-null object\n",
      "Website                                                                                                                        231 non-null object\n",
      "Select your Pillars' sessions                                                                                                  267 non-null object\n",
      "From the list of people below, with whom do you have a reliable relationship or have worked together in the last 18 months?    58 non-null object\n",
      "Which participants listed below would you be most interested in meeting?                                                       51 non-null object\n",
      "Which insitutions listed below would you be most interested in meeting?                                                        53 non-null object\n",
      "Please describe shortly the idea for the project you would like to submit (250 characters).                                    54 non-null object\n",
      "dtypes: bool(1), object(15)\n",
      "memory usage: 34.9+ KB\n"
     ]
    }
   ],
   "source": [
    "eit_participants.info()"
   ]
  },
  {
   "cell_type": "code",
   "execution_count": 4,
   "metadata": {},
   "outputs": [
    {
     "name": "stdout",
     "output_type": "stream",
     "text": [
      "<class 'pandas.core.frame.DataFrame'>\n",
      "RangeIndex: 356 entries, 0 to 355\n",
      "Data columns (total 6 columns):\n",
      "ID                  356 non-null int64\n",
      "Participant ID      356 non-null int64\n",
      "Opportunity Type    356 non-null object\n",
      "Title               356 non-null object\n",
      "Description         356 non-null object\n",
      "Update At           356 non-null datetime64[ns]\n",
      "dtypes: datetime64[ns](1), int64(2), object(3)\n",
      "memory usage: 16.8+ KB\n"
     ]
    }
   ],
   "source": [
    "eit_marketplace.info()"
   ]
  },
  {
   "cell_type": "code",
   "execution_count": 5,
   "metadata": {},
   "outputs": [
    {
     "name": "stdout",
     "output_type": "stream",
     "text": [
      "<class 'pandas.core.frame.DataFrame'>\n",
      "RangeIndex: 1344 entries, 0 to 1343\n",
      "Data columns (total 19 columns):\n",
      "ID                    1344 non-null int64\n",
      "Host ID               1344 non-null int64\n",
      "Host Name             1344 non-null object\n",
      "Host Organisation     1344 non-null object\n",
      "Host Country          1344 non-null object\n",
      "Guest ID              1344 non-null int64\n",
      "Guest Name            1344 non-null object\n",
      "Guest Organisation    1344 non-null object\n",
      "Guest Country         1344 non-null object\n",
      "Status                1344 non-null object\n",
      "Date                  829 non-null datetime64[ns]\n",
      "Time                  829 non-null datetime64[ns]\n",
      "Table/Booth           829 non-null float64\n",
      "Host Rating           0 non-null float64\n",
      "Host Comments         0 non-null float64\n",
      "Guest Rating          0 non-null float64\n",
      "Guest Comments        0 non-null float64\n",
      "Updated At            1344 non-null datetime64[ns]\n",
      "Created At            1344 non-null datetime64[ns]\n",
      "dtypes: datetime64[ns](4), float64(5), int64(3), object(7)\n",
      "memory usage: 199.6+ KB\n"
     ]
    }
   ],
   "source": [
    "eit_meetings.info()"
   ]
  },
  {
   "cell_type": "markdown",
   "metadata": {},
   "source": [
    "## Observations/Notes\n",
    "**Visual**\n",
    "1. Sheets *Feedback* and *Payments* are empty and unusable\n",
    "2. Sheet *Participants* has network data/surveyed information and has to be the primary dataset in creating insight\n",
    "3. Sheet *Marketplace* has some nominal data sorted by Participant ID and no names\n",
    "4. Sheet *Meetings* contain the ID-to-Participant Name keys\n",
    "  - Possible Network map of Host to Guests could yield insight\n",
    "5. The names in *Meetings* do not match the structure of the names in *Participants* so information on *Marketplace* and *Meetings* cannot be reliably merged with *Partcipants*\n",
    "\n",
    "**Notes**\n",
    "1. *Participants* data shows networking opportunity AND existing network.  This would mean the metrics yielded from this analysis would show POIs in present and future situations.  Next step would be to find commonality between POIs and relate it back to the population in general.\n",
    "2. *Meetings* show Host-to-Guest relationship, but this is a heterogenous relationship.\n",
    "3. Social Network Analysis metrics is the most effective in creating meaningful insight when the people/nodes are homogenously distributed, not heterogenously distributed.\n",
    "\n",
    "**Potential Visualizations**\n",
    "1. Who you want to meet\n",
    "2. Who you know\n",
    "3. Institutions you want to meet\n",
    "4. Pillars\n",
    "  a. Total Pillar\n",
    "  b. Main Pillar\n",
    "  c. Sub Pillar\n",
    "5. Country\n",
    "6. Areas of Activity\n",
    "7. Organisation and Organisation Type\n",
    "\n",
    "**Issues**\n",
    "1. *Marketplace* and *Meetings* have participants and id pairs but these do not coincide with the *Participants* sheet which contain the bulk of the data from which to gather insight from.\n",
    "2. Out of 295 *Participants*, ~56 filled out the survey.\n",
    "```\n",
    "From the list of people below, with whom do you have a reliable relationship or have worked together in the last 18 months?    58 non-null object\n",
    "Which participants listed below would you be most interested in meeting?                                                       51 non-null object\n",
    "Which insitutions listed below would you be most interested in meeting?                                                        53 non-null object\n",
    "Please describe shortly the idea for the project you would like to submit (250 characters).                                    54 non-null object\n",
    "```\n",
    "  - However, those that filled out the survey have named more than 311 connections.  This issue stems from lack of consistency in name entrance."
   ]
  },
  {
   "cell_type": "markdown",
   "metadata": {},
   "source": [
    "## Wrangling"
   ]
  },
  {
   "cell_type": "markdown",
   "metadata": {},
   "source": [
    "### Rename Columns"
   ]
  },
  {
   "cell_type": "code",
   "execution_count": 6,
   "metadata": {},
   "outputs": [
    {
     "data": {
      "text/plain": [
       "Index(['Activated', 'Email', 'First Name', 'Last Name', 'Job description',\n",
       "       'Organisation', 'Organisation Type', 'Areas of Activity', 'Country',\n",
       "       'City', 'Website', 'Select your Pillars' sessions',\n",
       "       'From the list of people below, with whom do you have a reliable relationship or have worked together in the last 18 months?',\n",
       "       'Which participants listed below would you be most interested in meeting?',\n",
       "       'Which insitutions listed below would you be most interested in meeting?',\n",
       "       'Please describe shortly the idea for the project you would like to submit (250 characters).'],\n",
       "      dtype='object')"
      ]
     },
     "execution_count": 6,
     "metadata": {},
     "output_type": "execute_result"
    }
   ],
   "source": [
    "eit_participants.columns"
   ]
  },
  {
   "cell_type": "code",
   "execution_count": 7,
   "metadata": {},
   "outputs": [],
   "source": [
    "eit_participants = eit_participants.rename(columns = {\"Select your Pillars' sessions\": 'Pillars',\n",
    "                                   \"From the list of people below, with whom do you have a reliable relationship or have worked together in the last 18 months?\": 'Reliable Relationship',\n",
    "                                   \"Which participants listed below would you be most interested in meeting?\":'w2m_person',\n",
    "                                   \"Which insitutions listed below would you be most interested in meeting?\": 'w2m_institution',\n",
    "                                   \"Please describe shortly the idea for the project you would like to submit (250 characters).\": 'project'})"
   ]
  },
  {
   "cell_type": "code",
   "execution_count": 8,
   "metadata": {},
   "outputs": [
    {
     "data": {
      "text/plain": [
       "Index(['Activated', 'Email', 'First Name', 'Last Name', 'Job description',\n",
       "       'Organisation', 'Organisation Type', 'Areas of Activity', 'Country',\n",
       "       'City', 'Website', 'Pillars', 'Reliable Relationship', 'w2m_person',\n",
       "       'w2m_institution', 'project'],\n",
       "      dtype='object')"
      ]
     },
     "execution_count": 8,
     "metadata": {},
     "output_type": "execute_result"
    }
   ],
   "source": [
    "eit_participants.columns"
   ]
  },
  {
   "cell_type": "markdown",
   "metadata": {},
   "source": [
    "### Merge First and Last Names"
   ]
  },
  {
   "cell_type": "code",
   "execution_count": 9,
   "metadata": {},
   "outputs": [],
   "source": [
    "eit_participants.insert(4, 'Name', eit_participants[['First Name', 'Last Name']].apply(lambda x:' '.join(x), axis = 1))"
   ]
  },
  {
   "cell_type": "code",
   "execution_count": 10,
   "metadata": {},
   "outputs": [
    {
     "data": {
      "text/plain": [
       "0      Magda Krakowiak\n",
       "1      Mikolaj Gurdala\n",
       "2       Marco Pugliese\n",
       "3      Sabine Schumann\n",
       "4    Joanna Baranowska\n",
       "Name: Name, dtype: object"
      ]
     },
     "execution_count": 10,
     "metadata": {},
     "output_type": "execute_result"
    }
   ],
   "source": [
    "eit_participants['Name'].head()"
   ]
  },
  {
   "cell_type": "code",
   "execution_count": 11,
   "metadata": {},
   "outputs": [
    {
     "data": {
      "text/plain": [
       "Index(['Activated', 'Email', 'First Name', 'Last Name', 'Name',\n",
       "       'Job description', 'Organisation', 'Organisation Type',\n",
       "       'Areas of Activity', 'Country', 'City', 'Website', 'Pillars',\n",
       "       'Reliable Relationship', 'w2m_person', 'w2m_institution', 'project'],\n",
       "      dtype='object')"
      ]
     },
     "execution_count": 11,
     "metadata": {},
     "output_type": "execute_result"
    }
   ],
   "source": [
    "eit_participants.columns"
   ]
  },
  {
   "cell_type": "markdown",
   "metadata": {},
   "source": [
    "### Expand Pillars Column"
   ]
  },
  {
   "cell_type": "code",
   "execution_count": 12,
   "metadata": {},
   "outputs": [
    {
     "data": {
      "text/plain": [
       "{'ACCELERATOR - Bootcamp programs',\n",
       " 'ACCELERATOR - Entrepreneurship programs',\n",
       " 'ACCELERATOR - GoGlobal Programmes',\n",
       " 'ACCELERATOR - Living Labs & Test Beds',\n",
       " 'ACCELERATOR - Mentoring and Coaching network',\n",
       " 'CAMPUS - Citizen Engagement Activities',\n",
       " 'CAMPUS - E-Labs',\n",
       " 'CAMPUS - Fellowship Programmes',\n",
       " 'CAMPUS - Innovation Day/Student Competition',\n",
       " 'CAMPUS - Innovative Education (incl. WE Health)',\n",
       " 'CAMPUS - Professionals and Executive Training',\n",
       " 'INNOVATION - Focus Areas',\n",
       " 'INNOVATION - group matchmaking'}"
      ]
     },
     "execution_count": 12,
     "metadata": {},
     "output_type": "execute_result"
    }
   ],
   "source": [
    "set([j.strip() for i in eit_participants['Pillars'].dropna() for j in i.split(',')])"
   ]
  },
  {
   "cell_type": "code",
   "execution_count": 13,
   "metadata": {},
   "outputs": [
    {
     "data": {
      "text/plain": [
       "{'ACCELERATOR', 'CAMPUS', 'INNOVATION'}"
      ]
     },
     "execution_count": 13,
     "metadata": {},
     "output_type": "execute_result"
    }
   ],
   "source": [
    "set([j.split(' - ')[0].strip() for i in eit_participants['Pillars'].dropna() for j in i.split(',')])"
   ]
  },
  {
   "cell_type": "code",
   "execution_count": 14,
   "metadata": {},
   "outputs": [
    {
     "data": {
      "text/plain": [
       "{'Bootcamp programs',\n",
       " 'Citizen Engagement Activities',\n",
       " 'E-Labs',\n",
       " 'Entrepreneurship programs',\n",
       " 'Fellowship Programmes',\n",
       " 'Focus Areas',\n",
       " 'GoGlobal Programmes',\n",
       " 'Innovation Day/Student Competition',\n",
       " 'Innovative Education (incl. WE Health)',\n",
       " 'Living Labs & Test Beds',\n",
       " 'Mentoring and Coaching network',\n",
       " 'Professionals and Executive Training',\n",
       " 'group matchmaking'}"
      ]
     },
     "execution_count": 14,
     "metadata": {},
     "output_type": "execute_result"
    }
   ],
   "source": [
    "set([j.split(' - ')[-1].strip() for i in eit_participants['Pillars'].dropna() for j in i.split(',')])"
   ]
  },
  {
   "cell_type": "code",
   "execution_count": 15,
   "metadata": {},
   "outputs": [
    {
     "data": {
      "text/plain": [
       "Index(['Activated', 'Email', 'First Name', 'Last Name', 'Name',\n",
       "       'Job description', 'Organisation', 'Organisation Type',\n",
       "       'Areas of Activity', 'Country', 'City', 'Website', 'Pillars',\n",
       "       'Main Pillar', 'Reliable Relationship', 'w2m_person', 'w2m_institution',\n",
       "       'project'],\n",
       "      dtype='object')"
      ]
     },
     "execution_count": 15,
     "metadata": {},
     "output_type": "execute_result"
    }
   ],
   "source": [
    "l = []\n",
    "for i in eit_participants['Pillars']:\n",
    "    if i==i:\n",
    "        l2 = []\n",
    "        for j in i.split(','):\n",
    "            l2.append(j.strip().split(' - ')[0])\n",
    "        l.append(list(set(l2)))\n",
    "    else:\n",
    "        l.append(['No Pillar'])\n",
    "eit_participants.insert(13, 'Main Pillar', l)\n",
    "eit_participants.columns"
   ]
  },
  {
   "cell_type": "code",
   "execution_count": 16,
   "metadata": {},
   "outputs": [
    {
     "data": {
      "text/plain": [
       "Index(['Activated', 'Email', 'First Name', 'Last Name', 'Name',\n",
       "       'Job description', 'Organisation', 'Organisation Type',\n",
       "       'Areas of Activity', 'Country', 'City', 'Website', 'Pillars',\n",
       "       'Main Pillar', 'Sub Pillar', 'Reliable Relationship', 'w2m_person',\n",
       "       'w2m_institution', 'project'],\n",
       "      dtype='object')"
      ]
     },
     "execution_count": 16,
     "metadata": {},
     "output_type": "execute_result"
    }
   ],
   "source": [
    "l = []\n",
    "for i in eit_participants['Pillars']:\n",
    "    if i==i:\n",
    "        l2 = []\n",
    "        for j in i.split(','):\n",
    "            l2.append(j.strip().split(' - ')[-1])\n",
    "        l.append(list(set(l2)))\n",
    "    else:\n",
    "        l.append(['No Sub Pillar'])\n",
    "eit_participants.insert(14, 'Sub Pillar', l)\n",
    "eit_participants.columns"
   ]
  },
  {
   "cell_type": "code",
   "execution_count": 17,
   "metadata": {},
   "outputs": [
    {
     "data": {
      "text/html": [
       "<div>\n",
       "<style>\n",
       "    .dataframe thead tr:only-child th {\n",
       "        text-align: right;\n",
       "    }\n",
       "\n",
       "    .dataframe thead th {\n",
       "        text-align: left;\n",
       "    }\n",
       "\n",
       "    .dataframe tbody tr th {\n",
       "        vertical-align: top;\n",
       "    }\n",
       "</style>\n",
       "<table border=\"1\" class=\"dataframe\">\n",
       "  <thead>\n",
       "    <tr style=\"text-align: right;\">\n",
       "      <th></th>\n",
       "      <th>Pillars</th>\n",
       "      <th>Main Pillar</th>\n",
       "      <th>Sub Pillar</th>\n",
       "    </tr>\n",
       "  </thead>\n",
       "  <tbody>\n",
       "    <tr>\n",
       "      <th>0</th>\n",
       "      <td>NaN</td>\n",
       "      <td>[No Pillar]</td>\n",
       "      <td>[No Sub Pillar]</td>\n",
       "    </tr>\n",
       "    <tr>\n",
       "      <th>1</th>\n",
       "      <td>INNOVATION - Focus Areas, INNOVATION - group m...</td>\n",
       "      <td>[INNOVATION]</td>\n",
       "      <td>[Focus Areas, group matchmaking]</td>\n",
       "    </tr>\n",
       "    <tr>\n",
       "      <th>2</th>\n",
       "      <td>ACCELERATOR - Bootcamp programs, ACCELERATOR -...</td>\n",
       "      <td>[INNOVATION, ACCELERATOR]</td>\n",
       "      <td>[Bootcamp programs, Mentoring and Coaching net...</td>\n",
       "    </tr>\n",
       "    <tr>\n",
       "      <th>3</th>\n",
       "      <td>INNOVATION - Focus Areas</td>\n",
       "      <td>[INNOVATION]</td>\n",
       "      <td>[Focus Areas]</td>\n",
       "    </tr>\n",
       "    <tr>\n",
       "      <th>4</th>\n",
       "      <td>ACCELERATOR - Bootcamp programs, CAMPUS - E-La...</td>\n",
       "      <td>[CAMPUS, ACCELERATOR, INNOVATION]</td>\n",
       "      <td>[Bootcamp programs, group matchmaking, E-Labs]</td>\n",
       "    </tr>\n",
       "  </tbody>\n",
       "</table>\n",
       "</div>"
      ],
      "text/plain": [
       "                                             Pillars  \\\n",
       "0                                                NaN   \n",
       "1  INNOVATION - Focus Areas, INNOVATION - group m...   \n",
       "2  ACCELERATOR - Bootcamp programs, ACCELERATOR -...   \n",
       "3                           INNOVATION - Focus Areas   \n",
       "4  ACCELERATOR - Bootcamp programs, CAMPUS - E-La...   \n",
       "\n",
       "                         Main Pillar  \\\n",
       "0                        [No Pillar]   \n",
       "1                       [INNOVATION]   \n",
       "2          [INNOVATION, ACCELERATOR]   \n",
       "3                       [INNOVATION]   \n",
       "4  [CAMPUS, ACCELERATOR, INNOVATION]   \n",
       "\n",
       "                                          Sub Pillar  \n",
       "0                                    [No Sub Pillar]  \n",
       "1                   [Focus Areas, group matchmaking]  \n",
       "2  [Bootcamp programs, Mentoring and Coaching net...  \n",
       "3                                      [Focus Areas]  \n",
       "4     [Bootcamp programs, group matchmaking, E-Labs]  "
      ]
     },
     "execution_count": 17,
     "metadata": {},
     "output_type": "execute_result"
    }
   ],
   "source": [
    "eit_participants[['Pillars', 'Main Pillar', 'Sub Pillar']].head()"
   ]
  },
  {
   "cell_type": "markdown",
   "metadata": {},
   "source": [
    "### Areas of Activity"
   ]
  },
  {
   "cell_type": "code",
   "execution_count": 18,
   "metadata": {},
   "outputs": [
    {
     "data": {
      "text/plain": [
       "{'Active Ageing / Overcoming Functional Loss',\n",
       " 'Active Ageing / Workplace Interventions',\n",
       " 'Ageing with a Healthy Brain',\n",
       " 'Bringing Care Home',\n",
       " 'Business Development',\n",
       " 'Chronic Disease management',\n",
       " 'Design / R&D / Engineering',\n",
       " 'Diagnostics',\n",
       " 'Education',\n",
       " 'Improving Healthcare Systems',\n",
       " 'Leveraging Enabling Technologies and Exploiting Big Data',\n",
       " 'Leveraging Talents and Education',\n",
       " 'Metabolic Health',\n",
       " 'Mobility and Independence Throughout Life',\n",
       " 'Motivate Active Personal Lifestyles',\n",
       " 'Personalized Oncology and integrated Cancer Care',\n",
       " 'Prevention',\n",
       " 'Production',\n",
       " 'Promote Healthy Living / Lifestyle Intervention',\n",
       " 'Removing Barriers to Innovation',\n",
       " 'Sales & Distribution',\n",
       " 'Self-Management of Health',\n",
       " 'Service / Maintenance / Supply',\n",
       " 'Sustainable Continuum of Care to Support Active Living in Europe',\n",
       " 'Testing & Analysis',\n",
       " 'Therapy',\n",
       " 'Treating and Managing Chronic Diseases',\n",
       " 'Value from Data in Clinical and SubClinical Settings',\n",
       " 'Well being'}"
      ]
     },
     "execution_count": 18,
     "metadata": {},
     "output_type": "execute_result"
    }
   ],
   "source": [
    "set([j for i in eit_participants['Areas of Activity'].dropna() for j in i.split(',')])"
   ]
  },
  {
   "cell_type": "markdown",
   "metadata": {},
   "source": [
    "### Country"
   ]
  },
  {
   "cell_type": "code",
   "execution_count": 19,
   "metadata": {},
   "outputs": [
    {
     "data": {
      "text/plain": [
       "{'Belgium',\n",
       " 'Denmark',\n",
       " 'Estonia',\n",
       " 'France',\n",
       " 'Germany',\n",
       " 'Hungary',\n",
       " 'Ireland',\n",
       " 'Italy',\n",
       " 'Netherlands',\n",
       " 'Poland',\n",
       " 'Portugal',\n",
       " 'Spain',\n",
       " 'Sweden',\n",
       " 'Switzerland',\n",
       " 'United Kingdom'}"
      ]
     },
     "execution_count": 19,
     "metadata": {},
     "output_type": "execute_result"
    }
   ],
   "source": [
    "set(eit_participants['Country'])"
   ]
  },
  {
   "cell_type": "markdown",
   "metadata": {},
   "source": [
    "### Organisation and Organisation Type"
   ]
  },
  {
   "cell_type": "code",
   "execution_count": 20,
   "metadata": {},
   "outputs": [
    {
     "data": {
      "text/plain": [
       "{'Association/Agency',\n",
       " 'Authority/Government',\n",
       " 'Company',\n",
       " 'EIT Health staff',\n",
       " 'Other',\n",
       " 'R&D Institution',\n",
       " 'University'}"
      ]
     },
     "execution_count": 20,
     "metadata": {},
     "output_type": "execute_result"
    }
   ],
   "source": [
    "set(eit_participants['Organisation Type'])"
   ]
  },
  {
   "cell_type": "markdown",
   "metadata": {},
   "source": [
    "## Create Network Data for Gephi"
   ]
  },
  {
   "cell_type": "markdown",
   "metadata": {},
   "source": [
    "### Who you know"
   ]
  },
  {
   "cell_type": "code",
   "execution_count": 21,
   "metadata": {},
   "outputs": [],
   "source": [
    "net_dict = {'Source': [],\n",
    "            'Target' : []}\n",
    "for index, row in eit_participants.dropna(subset = ['Reliable Relationship']).iterrows():\n",
    "    for cons in row['Reliable Relationship'].split(','):\n",
    "        net_dict['Source'].append(row['Name'])\n",
    "        net_dict['Target'].append(cons.strip())\n",
    "wyn_edges = pd.DataFrame(net_dict)\n",
    "wyn_nodes = pd.DataFrame({'Id' : list(set(wyn_edges['Source']) | set(wyn_edges['Target'])),\n",
    "                          'Label' : list(set(wyn_edges['Source']) | set(wyn_edges['Target']))})\n",
    "wyn_edges.to_csv('wyn_edges.csv', index = False)\n",
    "wyn_nodes.to_csv('wyn_nodes.csv', index = False)"
   ]
  },
  {
   "cell_type": "markdown",
   "metadata": {},
   "source": [
    "![](https://gyazo.com/ccab4c765d8ec61985a444c5c07b809b.png)"
   ]
  },
  {
   "cell_type": "markdown",
   "metadata": {},
   "source": [
    "### Who you want to meet"
   ]
  },
  {
   "cell_type": "code",
   "execution_count": 22,
   "metadata": {},
   "outputs": [],
   "source": [
    "net_dict = {'Source': [],\n",
    "            'Target' : []}\n",
    "for index, row in eit_participants.dropna(subset = ['w2m_person']).iterrows():\n",
    "    for cons in row['w2m_person'].split(','):\n",
    "        net_dict['Source'].append(row['Name'])\n",
    "        net_dict['Target'].append(cons.strip())\n",
    "w2m_edges = pd.DataFrame(net_dict)\n",
    "w2m_nodes = pd.DataFrame({'Id' : list(set(w2m_edges['Source']) | set(w2m_edges['Target'])),\n",
    "                          'Label' : list(set(w2m_edges['Source']) | set(w2m_edges['Target']))})\n",
    "w2m_edges.to_csv('w2m_edges.csv', index = False)\n",
    "w2m_nodes.to_csv('w2m_nodes.csv', index = False)                         "
   ]
  },
  {
   "cell_type": "markdown",
   "metadata": {},
   "source": [
    "![](https://gyazo.com/8e0473b632a31f785e85e35fdd44a736.png)"
   ]
  },
  {
   "cell_type": "markdown",
   "metadata": {},
   "source": [
    "**Notes**\n",
    "1. Clustering of non-human networks represent closely related subjects of importance that may benefit from merging."
   ]
  },
  {
   "cell_type": "markdown",
   "metadata": {},
   "source": [
    "### Want to meet (Institution)"
   ]
  },
  {
   "cell_type": "code",
   "execution_count": 23,
   "metadata": {},
   "outputs": [],
   "source": [
    "net_dict = {'Source': [],\n",
    "            'Target' : []}\n",
    "for index, row in eit_participants.dropna(subset = ['w2m_institution']).iterrows():\n",
    "    for cons in row['w2m_institution'].split(','):\n",
    "        net_dict['Source'].append(row['Name'])\n",
    "        net_dict['Target'].append(cons.strip())\n",
    "w2m_institution_edges = pd.DataFrame(net_dict)\n",
    "w2m_institution_nodes = pd.DataFrame({'Id' : list(set(w2m_institution_edges['Source']) | set(w2m_institution_edges['Target'])),\n",
    "                          'Label' : list(set(w2m_institution_edges['Source']) | set(w2m_institution_edges['Target']))})\n",
    "w2m_institution_nodes['Class'] = ['Institution' if i in w2m_institution_edges['Target'].tolist() else 'Person' for i in w2m_institution_nodes['Id']]\n",
    "w2m_institution_edges.to_csv('w2m_institution_edges.csv', index = False)\n",
    "w2m_institution_nodes.to_csv('w2m_institution_nodes.csv', index = False)                         "
   ]
  },
  {
   "cell_type": "markdown",
   "metadata": {},
   "source": [
    "### Areas of Activity"
   ]
  },
  {
   "cell_type": "code",
   "execution_count": 24,
   "metadata": {},
   "outputs": [],
   "source": [
    "net_dict = {'Source': [],\n",
    "            'Target' : []}\n",
    "for index, row in eit_participants.dropna(subset = ['Areas of Activity']).iterrows():\n",
    "    for cons in row['Areas of Activity'].split(','):\n",
    "        net_dict['Source'].append(row['Name'])\n",
    "        net_dict['Target'].append(cons.strip())\n",
    "activities_edges = pd.DataFrame(net_dict)\n",
    "activities_nodes = pd.DataFrame({'Id' : list(set(activities_edges['Source']) | set(activities_edges['Target'])),\n",
    "                          'Label' : list(set(activities_edges['Source']) | set(activities_edges['Target']))})\n",
    "activities_nodes['Class'] = ['Activity' if i in activities_edges['Target'].tolist() else 'Person' for i in activities_nodes['Id']]\n",
    "activities_edges.to_csv('activities_edges.csv', index = False)\n",
    "activities_nodes.to_csv('activities_nodes.csv', index = False)                         "
   ]
  },
  {
   "cell_type": "markdown",
   "metadata": {},
   "source": [
    "### Pillars\n",
    "\n",
    "For this one, we will connect to sub-pillar but color by Main pillar"
   ]
  },
  {
   "cell_type": "code",
   "execution_count": 25,
   "metadata": {},
   "outputs": [],
   "source": [
    "net_dict = {'Source': [],\n",
    "            'Target' : []}\n",
    "for index, row in eit_participants.dropna(subset = ['Sub Pillar']).iterrows():\n",
    "    for cons in row['Sub Pillar']:\n",
    "        net_dict['Source'].append(row['Name'])\n",
    "        net_dict['Target'].append(cons.strip())\n",
    "pillars_edges = pd.DataFrame(net_dict)\n",
    "pillars_nodes = pd.DataFrame({'Id' : list(set(pillars_edges['Source']) | set(pillars_edges['Target'])),\n",
    "                          'Label' : list(set(pillars_edges['Source']) | set(pillars_edges['Target']))})\n",
    "pillar_key = list(set([j.strip() for i in eit_participants['Pillars'].dropna() for j in i.split(',')]))\n",
    "pillar_dict = {}\n",
    "for i in pillar_key:\n",
    "    mp, sp = i.split(' - ')\n",
    "    pillar_dict[sp] = mp\n",
    "pillar_dict\n",
    "pillars_nodes['Class'] = [pillar_dict[i] if i in pillar_dict else 'Person' for i in pillars_nodes['Id'].tolist()]\n",
    "pillars_edges.to_csv('pillar_edges.csv', index = False)\n",
    "pillars_nodes.to_csv('pillar_nodes.csv', index = False)"
   ]
  },
  {
   "cell_type": "markdown",
   "metadata": {},
   "source": [
    "### Country"
   ]
  },
  {
   "cell_type": "code",
   "execution_count": 26,
   "metadata": {},
   "outputs": [],
   "source": [
    "country_edges = eit_participants[['Name', 'Country']].rename(columns = {'Name' : 'Source', 'Country' : 'Target'})\n",
    "country_nodes = pd.DataFrame({'Id' : list(set(country_edges['Source'])|set(country_edges['Target'])),\n",
    "                              'Label' : list(set(country_edges['Source'])|set(country_edges['Target']))\n",
    "                             })\n",
    "country_nodes['Class'] = ['Country' if i in country_edges['Target'].tolist() else 'Person' for i in country_nodes['Id']]\n",
    "country_edges.to_csv('country_edges.csv', index = False)\n",
    "country_nodes.to_csv('country_nodes.csv', index = False)"
   ]
  },
  {
   "cell_type": "markdown",
   "metadata": {},
   "source": [
    "### Organisation and Organisation Type"
   ]
  },
  {
   "cell_type": "code",
   "execution_count": 27,
   "metadata": {},
   "outputs": [],
   "source": [
    "org_type_edges = eit_participants[['Name', 'Organisation Type']].rename(columns = {'Name' : 'Source', 'Organisation Type' : 'Target'})\n",
    "org_type_nodes = pd.DataFrame({'Id' : list(set(org_type_edges['Source'])|set(org_type_edges['Target'])),\n",
    "                              'Label' : list(set(org_type_edges['Source'])|set(org_type_edges['Target']))\n",
    "                             })\n",
    "org_type_nodes['Class'] = ['Organisation Type' if i in org_type_edges['Target'].tolist() else 'Person' for i in org_type_nodes['Id']]\n",
    "org_type_edges.to_csv('org_type_edges.csv', index = False)\n",
    "org_type_nodes.to_csv('org_type_nodes.csv', index = False)"
   ]
  },
  {
   "cell_type": "markdown",
   "metadata": {},
   "source": [
    "## Personality"
   ]
  },
  {
   "cell_type": "code",
   "execution_count": 30,
   "metadata": {},
   "outputs": [],
   "source": [
    "eitpro = pd.read_excel('eitprofile.xlsx', header = 1)"
   ]
  },
  {
   "cell_type": "code",
   "execution_count": 31,
   "metadata": {},
   "outputs": [
    {
     "data": {
      "text/html": [
       "<div>\n",
       "<style>\n",
       "    .dataframe thead tr:only-child th {\n",
       "        text-align: right;\n",
       "    }\n",
       "\n",
       "    .dataframe thead th {\n",
       "        text-align: left;\n",
       "    }\n",
       "\n",
       "    .dataframe tbody tr th {\n",
       "        vertical-align: top;\n",
       "    }\n",
       "</style>\n",
       "<table border=\"1\" class=\"dataframe\">\n",
       "  <thead>\n",
       "    <tr style=\"text-align: right;\">\n",
       "      <th></th>\n",
       "      <th>Event</th>\n",
       "      <th>User Type</th>\n",
       "      <th>Full Name</th>\n",
       "      <th>First Name</th>\n",
       "      <th>Last Name</th>\n",
       "      <th>Email</th>\n",
       "      <th>Industry</th>\n",
       "      <th>Company</th>\n",
       "      <th>Title</th>\n",
       "      <th>Level</th>\n",
       "      <th>...</th>\n",
       "      <th>Connections</th>\n",
       "      <th>Experience</th>\n",
       "      <th>Skills</th>\n",
       "      <th>Groups</th>\n",
       "      <th>Warmth</th>\n",
       "      <th>Linkedin_Summary_Tags</th>\n",
       "      <th>Linkedin_Headline_Tags</th>\n",
       "      <th>Personality Type</th>\n",
       "      <th>Personality summary</th>\n",
       "      <th>Key words/phrases</th>\n",
       "    </tr>\n",
       "  </thead>\n",
       "  <tbody>\n",
       "    <tr>\n",
       "      <th>0</th>\n",
       "      <td>EIT Health 2018</td>\n",
       "      <td>Attendees</td>\n",
       "      <td>Adèle Tellez</td>\n",
       "      <td>Adèle</td>\n",
       "      <td>Tellez</td>\n",
       "      <td>adele.tellez@cea.fr</td>\n",
       "      <td>NaN</td>\n",
       "      <td>CEA-List</td>\n",
       "      <td>Health Program Manager</td>\n",
       "      <td>NaN</td>\n",
       "      <td>...</td>\n",
       "      <td>500</td>\n",
       "      <td>y</td>\n",
       "      <td>0.0</td>\n",
       "      <td>6</td>\n",
       "      <td>3.6</td>\n",
       "      <td>NaN</td>\n",
       "      <td>CEA List</td>\n",
       "      <td>Is</td>\n",
       "      <td>Adèle resists formal structure, has big ideas,...</td>\n",
       "      <td>Colorful, descriptive words|How can I help|How...</td>\n",
       "    </tr>\n",
       "    <tr>\n",
       "      <th>1</th>\n",
       "      <td>EIT Health 2018</td>\n",
       "      <td>Attendees</td>\n",
       "      <td>Adrienne Perves</td>\n",
       "      <td>Adrienne</td>\n",
       "      <td>Perves</td>\n",
       "      <td>adrienne.perves@cea.fr</td>\n",
       "      <td>NaN</td>\n",
       "      <td>CEATech - Leti-Health</td>\n",
       "      <td>Deputy Director LETI-Health</td>\n",
       "      <td>NaN</td>\n",
       "      <td>...</td>\n",
       "      <td>500</td>\n",
       "      <td>y</td>\n",
       "      <td>14.0</td>\n",
       "      <td>6</td>\n",
       "      <td>3.8</td>\n",
       "      <td>Experienced Project Management, International ...</td>\n",
       "      <td>Deputy Head, l'énergie atomique, énergies alte...</td>\n",
       "      <td>Ds</td>\n",
       "      <td>Adrienne may come off as too direct or blunt s...</td>\n",
       "      <td>...what your team thinks|ASAP|Focus on a singl...</td>\n",
       "    </tr>\n",
       "    <tr>\n",
       "      <th>2</th>\n",
       "      <td>EIT Health 2018</td>\n",
       "      <td>Attendees</td>\n",
       "      <td>Agnieszka Oćwieja</td>\n",
       "      <td>Agnieszka</td>\n",
       "      <td>Oćwieja</td>\n",
       "      <td>agnieszka.ocwieja@comarch.com</td>\n",
       "      <td>NaN</td>\n",
       "      <td>Comarch Healthcare</td>\n",
       "      <td>Business Solutions Consultant</td>\n",
       "      <td>NaN</td>\n",
       "      <td>...</td>\n",
       "      <td>153</td>\n",
       "      <td>y</td>\n",
       "      <td>15.0</td>\n",
       "      <td>6</td>\n",
       "      <td>3.5</td>\n",
       "      <td>NaN</td>\n",
       "      <td>Stanislawa Staszica, Górniczo-Hutnicza im, Kra...</td>\n",
       "      <td>Id</td>\n",
       "      <td>Agnieszka is a decisive, creative influencer: ...</td>\n",
       "      <td>Bold claims|Casual greetings (\"Hey\")|Colorful,...</td>\n",
       "    </tr>\n",
       "    <tr>\n",
       "      <th>3</th>\n",
       "      <td>EIT Health 2018</td>\n",
       "      <td>Attendees</td>\n",
       "      <td>Aine Phelan</td>\n",
       "      <td>Aine</td>\n",
       "      <td>Phelan</td>\n",
       "      <td>aine@isax.ie</td>\n",
       "      <td>NaN</td>\n",
       "      <td>ISAX</td>\n",
       "      <td>Head of Consumer Insight &amp; Marketing</td>\n",
       "      <td>NaN</td>\n",
       "      <td>...</td>\n",
       "      <td>500</td>\n",
       "      <td>y</td>\n",
       "      <td>50.0</td>\n",
       "      <td>1</td>\n",
       "      <td>5.0</td>\n",
       "      <td>Ireland Smart Ageing, Business Model Transform...</td>\n",
       "      <td>Consumer Insight &amp; Marketing, Head, ISAX</td>\n",
       "      <td>Di</td>\n",
       "      <td>Aine is an extremely direct communicator and m...</td>\n",
       "      <td>ASAP|Blunt language|Focus on a single point|I ...</td>\n",
       "    </tr>\n",
       "    <tr>\n",
       "      <th>4</th>\n",
       "      <td>EIT Health 2018</td>\n",
       "      <td>Attendees</td>\n",
       "      <td>Alain PUJOL</td>\n",
       "      <td>Alain</td>\n",
       "      <td>PUJOL</td>\n",
       "      <td>alain.pujol@angelssante.fr</td>\n",
       "      <td>NaN</td>\n",
       "      <td>Angels Sante - Angels for Health</td>\n",
       "      <td>Board Member International Relations</td>\n",
       "      <td>NaN</td>\n",
       "      <td>...</td>\n",
       "      <td>500</td>\n",
       "      <td>n</td>\n",
       "      <td>22.0</td>\n",
       "      <td>1</td>\n",
       "      <td>2.3</td>\n",
       "      <td>NaN</td>\n",
       "      <td>NaN</td>\n",
       "      <td>Ds</td>\n",
       "      <td>Alain may come off as too direct or blunt some...</td>\n",
       "      <td>...what your team thinks|ASAP|Focus on a singl...</td>\n",
       "    </tr>\n",
       "  </tbody>\n",
       "</table>\n",
       "<p>5 rows × 31 columns</p>\n",
       "</div>"
      ],
      "text/plain": [
       "             Event  User Type          Full Name First Name Last Name  \\\n",
       "0  EIT Health 2018  Attendees       Adèle Tellez      Adèle    Tellez   \n",
       "1  EIT Health 2018  Attendees    Adrienne Perves   Adrienne    Perves   \n",
       "2  EIT Health 2018  Attendees  Agnieszka Oćwieja  Agnieszka   Oćwieja   \n",
       "3  EIT Health 2018  Attendees        Aine Phelan       Aine    Phelan   \n",
       "4  EIT Health 2018  Attendees        Alain PUJOL      Alain     PUJOL   \n",
       "\n",
       "                           Email  Industry                           Company  \\\n",
       "0            adele.tellez@cea.fr       NaN                          CEA-List   \n",
       "1         adrienne.perves@cea.fr       NaN             CEATech - Leti-Health   \n",
       "2  agnieszka.ocwieja@comarch.com       NaN                Comarch Healthcare   \n",
       "3                   aine@isax.ie       NaN                              ISAX   \n",
       "4     alain.pujol@angelssante.fr       NaN  Angels Sante - Angels for Health   \n",
       "\n",
       "                                  Title  Level  \\\n",
       "0                Health Program Manager    NaN   \n",
       "1           Deputy Director LETI-Health    NaN   \n",
       "2         Business Solutions Consultant    NaN   \n",
       "3  Head of Consumer Insight & Marketing    NaN   \n",
       "4  Board Member International Relations    NaN   \n",
       "\n",
       "                         ...                         Connections Experience  \\\n",
       "0                        ...                                 500          y   \n",
       "1                        ...                                 500          y   \n",
       "2                        ...                                 153          y   \n",
       "3                        ...                                 500          y   \n",
       "4                        ...                                 500          n   \n",
       "\n",
       "  Skills Groups Warmth                              Linkedin_Summary_Tags  \\\n",
       "0    0.0      6    3.6                                                NaN   \n",
       "1   14.0      6    3.8  Experienced Project Management, International ...   \n",
       "2   15.0      6    3.5                                                NaN   \n",
       "3   50.0      1    5.0  Ireland Smart Ageing, Business Model Transform...   \n",
       "4   22.0      1    2.3                                                NaN   \n",
       "\n",
       "                              Linkedin_Headline_Tags Personality Type  \\\n",
       "0                                           CEA List               Is   \n",
       "1  Deputy Head, l'énergie atomique, énergies alte...               Ds   \n",
       "2  Stanislawa Staszica, Górniczo-Hutnicza im, Kra...               Id   \n",
       "3           Consumer Insight & Marketing, Head, ISAX               Di   \n",
       "4                                                NaN               Ds   \n",
       "\n",
       "                                 Personality summary  \\\n",
       "0  Adèle resists formal structure, has big ideas,...   \n",
       "1  Adrienne may come off as too direct or blunt s...   \n",
       "2  Agnieszka is a decisive, creative influencer: ...   \n",
       "3  Aine is an extremely direct communicator and m...   \n",
       "4  Alain may come off as too direct or blunt some...   \n",
       "\n",
       "                                   Key words/phrases  \n",
       "0  Colorful, descriptive words|How can I help|How...  \n",
       "1  ...what your team thinks|ASAP|Focus on a singl...  \n",
       "2  Bold claims|Casual greetings (\"Hey\")|Colorful,...  \n",
       "3  ASAP|Blunt language|Focus on a single point|I ...  \n",
       "4  ...what your team thinks|ASAP|Focus on a singl...  \n",
       "\n",
       "[5 rows x 31 columns]"
      ]
     },
     "execution_count": 31,
     "metadata": {},
     "output_type": "execute_result"
    }
   ],
   "source": [
    "eitpro.head()"
   ]
  },
  {
   "cell_type": "code",
   "execution_count": 35,
   "metadata": {},
   "outputs": [],
   "source": [
    "eitpro = eitpro.dropna(subset = ['Collated Skills', 'Personality Type'])[['Full Name', 'Collated Skills', 'Personality Type']]"
   ]
  },
  {
   "cell_type": "code",
   "execution_count": 37,
   "metadata": {},
   "outputs": [
    {
     "data": {
      "text/html": [
       "<div>\n",
       "<style>\n",
       "    .dataframe thead tr:only-child th {\n",
       "        text-align: right;\n",
       "    }\n",
       "\n",
       "    .dataframe thead th {\n",
       "        text-align: left;\n",
       "    }\n",
       "\n",
       "    .dataframe tbody tr th {\n",
       "        vertical-align: top;\n",
       "    }\n",
       "</style>\n",
       "<table border=\"1\" class=\"dataframe\">\n",
       "  <thead>\n",
       "    <tr style=\"text-align: right;\">\n",
       "      <th></th>\n",
       "      <th>Full Name</th>\n",
       "      <th>Collated Skills</th>\n",
       "      <th>Personality Type</th>\n",
       "    </tr>\n",
       "  </thead>\n",
       "  <tbody>\n",
       "    <tr>\n",
       "      <th>1</th>\n",
       "      <td>Adrienne Perves</td>\n",
       "      <td>Project Management,R&amp;D,Innovation Management,I...</td>\n",
       "      <td>Ds</td>\n",
       "    </tr>\n",
       "    <tr>\n",
       "      <th>2</th>\n",
       "      <td>Agnieszka Oćwieja</td>\n",
       "      <td>Matlab,Biomedical Engineering,English,Microsof...</td>\n",
       "      <td>Id</td>\n",
       "    </tr>\n",
       "    <tr>\n",
       "      <th>3</th>\n",
       "      <td>Aine Phelan</td>\n",
       "      <td>Strategy,Management,Marketing Strategy,Marketi...</td>\n",
       "      <td>Di</td>\n",
       "    </tr>\n",
       "    <tr>\n",
       "      <th>4</th>\n",
       "      <td>Alain PUJOL</td>\n",
       "      <td>Change Management,Pharmaceutical Industry,Stra...</td>\n",
       "      <td>Ds</td>\n",
       "    </tr>\n",
       "    <tr>\n",
       "      <th>5</th>\n",
       "      <td>Albena Saynova</td>\n",
       "      <td>International Relations,Public Policy,Microsof...</td>\n",
       "      <td>Cs</td>\n",
       "    </tr>\n",
       "  </tbody>\n",
       "</table>\n",
       "</div>"
      ],
      "text/plain": [
       "           Full Name                                    Collated Skills  \\\n",
       "1    Adrienne Perves  Project Management,R&D,Innovation Management,I...   \n",
       "2  Agnieszka Oćwieja  Matlab,Biomedical Engineering,English,Microsof...   \n",
       "3        Aine Phelan  Strategy,Management,Marketing Strategy,Marketi...   \n",
       "4        Alain PUJOL  Change Management,Pharmaceutical Industry,Stra...   \n",
       "5     Albena Saynova  International Relations,Public Policy,Microsof...   \n",
       "\n",
       "  Personality Type  \n",
       "1               Ds  \n",
       "2               Id  \n",
       "3               Di  \n",
       "4               Ds  \n",
       "5               Cs  "
      ]
     },
     "execution_count": 37,
     "metadata": {},
     "output_type": "execute_result"
    }
   ],
   "source": [
    "eitpro.head()"
   ]
  },
  {
   "cell_type": "code",
   "execution_count": 45,
   "metadata": {},
   "outputs": [],
   "source": [
    "net_dict = {'Source' : [],\n",
    "            'Target' : []}\n",
    "for index, row in eitpro.iterrows():\n",
    "    for skill in row['Collated Skills'].split(','):\n",
    "        net_dict['Source'].append(row['Full Name'])\n",
    "        net_dict['Target'].append(skill)\n",
    "nodes = list(set(net_dict['Source'])|set(net_dict['Target']))\n",
    "li_skills_nodes = pd.DataFrame({'Id' : nodes,\n",
    "                                'Label' : nodes})\n",
    "li_skills_nodes['Class'] = ['Skill' if i in li_skills_edges['Target'].tolist() else 'Persons' for i in li_skills_nodes['Id'].tolist()]\n",
    "li_skills_edges = pd.DataFrame(net_dict)\n",
    "li_skills_nodes.to_csv('li_skills_nodes.csv', index = False)\n",
    "li_skills_edges.to_csv('li_skills_edges.csv', index = False)"
   ]
  },
  {
   "cell_type": "code",
   "execution_count": 47,
   "metadata": {},
   "outputs": [
    {
     "data": {
      "text/html": [
       "<div>\n",
       "<style>\n",
       "    .dataframe thead tr:only-child th {\n",
       "        text-align: right;\n",
       "    }\n",
       "\n",
       "    .dataframe thead th {\n",
       "        text-align: left;\n",
       "    }\n",
       "\n",
       "    .dataframe tbody tr th {\n",
       "        vertical-align: top;\n",
       "    }\n",
       "</style>\n",
       "<table border=\"1\" class=\"dataframe\">\n",
       "  <thead>\n",
       "    <tr style=\"text-align: right;\">\n",
       "      <th></th>\n",
       "      <th>Full Name</th>\n",
       "      <th>Collated Skills</th>\n",
       "      <th>Personality Type</th>\n",
       "    </tr>\n",
       "  </thead>\n",
       "  <tbody>\n",
       "    <tr>\n",
       "      <th>1</th>\n",
       "      <td>Adrienne Perves</td>\n",
       "      <td>Project Management,R&amp;D,Innovation Management,I...</td>\n",
       "      <td>Ds</td>\n",
       "    </tr>\n",
       "    <tr>\n",
       "      <th>2</th>\n",
       "      <td>Agnieszka Oćwieja</td>\n",
       "      <td>Matlab,Biomedical Engineering,English,Microsof...</td>\n",
       "      <td>Id</td>\n",
       "    </tr>\n",
       "    <tr>\n",
       "      <th>3</th>\n",
       "      <td>Aine Phelan</td>\n",
       "      <td>Strategy,Management,Marketing Strategy,Marketi...</td>\n",
       "      <td>Di</td>\n",
       "    </tr>\n",
       "    <tr>\n",
       "      <th>4</th>\n",
       "      <td>Alain PUJOL</td>\n",
       "      <td>Change Management,Pharmaceutical Industry,Stra...</td>\n",
       "      <td>Ds</td>\n",
       "    </tr>\n",
       "    <tr>\n",
       "      <th>5</th>\n",
       "      <td>Albena Saynova</td>\n",
       "      <td>International Relations,Public Policy,Microsof...</td>\n",
       "      <td>Cs</td>\n",
       "    </tr>\n",
       "  </tbody>\n",
       "</table>\n",
       "</div>"
      ],
      "text/plain": [
       "           Full Name                                    Collated Skills  \\\n",
       "1    Adrienne Perves  Project Management,R&D,Innovation Management,I...   \n",
       "2  Agnieszka Oćwieja  Matlab,Biomedical Engineering,English,Microsof...   \n",
       "3        Aine Phelan  Strategy,Management,Marketing Strategy,Marketi...   \n",
       "4        Alain PUJOL  Change Management,Pharmaceutical Industry,Stra...   \n",
       "5     Albena Saynova  International Relations,Public Policy,Microsof...   \n",
       "\n",
       "  Personality Type  \n",
       "1               Ds  \n",
       "2               Id  \n",
       "3               Di  \n",
       "4               Ds  \n",
       "5               Cs  "
      ]
     },
     "execution_count": 47,
     "metadata": {},
     "output_type": "execute_result"
    }
   ],
   "source": [
    "eitpro.head()"
   ]
  },
  {
   "cell_type": "code",
   "execution_count": 53,
   "metadata": {},
   "outputs": [],
   "source": [
    "per_dict = {'d' : 'Dominance',\n",
    "            'i' : 'Influence',\n",
    "            'c' : 'Conscientiousness',\n",
    "            's' : 'Steadiness'}"
   ]
  },
  {
   "cell_type": "code",
   "execution_count": 63,
   "metadata": {},
   "outputs": [],
   "source": [
    "def pers(x):\n",
    "    return '|'.join([per_dict[i] for i in x.lower()])\n",
    "eitpro['Personality Type'] = eitpro['Personality Type'].apply(pers)"
   ]
  },
  {
   "cell_type": "code",
   "execution_count": 65,
   "metadata": {},
   "outputs": [],
   "source": [
    "net_dict = {'Source' : [],\n",
    "            'Target' : []}\n",
    "for index, row in eitpro.iterrows():\n",
    "    net_dict['Source'].append(row['Full Name'])\n",
    "    net_dict['Target'].append(row['Personality Type'])\n",
    "nodes = list(set(net_dict['Source'])|set(net_dict['Target']))\n",
    "personality_nodes = pd.DataFrame({'Id' : nodes,\n",
    "                                'Label' : nodes})\n",
    "personality_edges = pd.DataFrame(net_dict)\n",
    "personality_nodes['Class'] = ['Personality' if i in personality_edges['Target'].tolist() else 'Persons' for i in personality_nodes['Id'].tolist()]\n",
    "personality_nodes.to_csv('personality_nodes.csv', index = False)\n",
    "personality_edges.to_csv('personality_edges.csv', index = False)"
   ]
  },
  {
   "cell_type": "code",
   "execution_count": null,
   "metadata": {},
   "outputs": [],
   "source": []
  }
 ],
 "metadata": {
  "kernelspec": {
   "display_name": "Python 3",
   "language": "python",
   "name": "python3"
  },
  "language_info": {
   "codemirror_mode": {
    "name": "ipython",
    "version": 3
   },
   "file_extension": ".py",
   "mimetype": "text/x-python",
   "name": "python",
   "nbconvert_exporter": "python",
   "pygments_lexer": "ipython3",
   "version": "3.6.4"
  }
 },
 "nbformat": 4,
 "nbformat_minor": 2
}
