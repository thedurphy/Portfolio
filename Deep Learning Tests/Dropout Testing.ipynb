{
 "cells": [
  {
   "cell_type": "markdown",
   "metadata": {},
   "source": [
    "# ANN for Generalized Logistic Regression (Multinomial Logistic Regression)\n",
    "\n",
    "In the following, we will create a Multi-Class Classification Deep Neural Net.  This will also function for binary classification as well since we are using a generalized version of Logistic Regression's activation function, $\\sigma$, which is a *softmax activation* function.\n",
    "![](https://wikimedia.org/api/rest_v1/media/math/render/svg/e348290cf48ddbb6e9a6ef4e39363568b67c09d3)\n",
    "### Hyper-Parameters\n",
    "\n",
    "For simplicity, I have used established conventions in deciding the particular hyper-parameters, however, their corresponding values can be adjusted.  The default values are based on concensus amongst the community.\n",
    "\n",
    "Hyper-Parameters and their Values (if applicable)\n",
    "- He Initialization\n",
    "- L2 Regularization $\\lambda : 0.1$\n",
    "- ADAM Optimization \n",
    "$$\\beta_1 : 0.9$$\n",
    "$$\\beta_2 : 0.999$$ \n",
    "$$\\epsilon : 1e-8$$"
   ]
  },
  {
   "cell_type": "code",
   "execution_count": 53,
   "metadata": {
    "collapsed": true
   },
   "outputs": [],
   "source": [
    "%matplotlib inline\n",
    "import scipy\n",
    "from PIL import Image\n",
    "from scipy import ndimage\n",
    "import math\n",
    "import numpy as np\n",
    "import h5py\n",
    "import matplotlib.pyplot as plt\n",
    "from tf_utils import load_dataset,convert_to_one_hot\n",
    "X_train_orig, Y_train_orig, X_test_orig, Y_test_orig, classes = load_dataset()"
   ]
  },
  {
   "cell_type": "code",
   "execution_count": 54,
   "metadata": {},
   "outputs": [
    {
     "name": "stdout",
     "output_type": "stream",
     "text": [
      "number of training examples = 1080\n",
      "number of test examples = 120\n",
      "X_train shape: (12288, 1080)\n",
      "Y_train shape: (6, 1080)\n",
      "X_test shape: (12288, 120)\n",
      "Y_test shape: (6, 120)\n",
      "[[ 0.  1.  0. ...,  0.  0.  0.]\n",
      " [ 0.  0.  0. ...,  0.  0.  0.]\n",
      " [ 0.  0.  1. ...,  1.  0.  0.]\n",
      " [ 0.  0.  0. ...,  0.  0.  0.]\n",
      " [ 0.  0.  0. ...,  0.  1.  0.]\n",
      " [ 1.  0.  0. ...,  0.  0.  1.]]\n"
     ]
    },
    {
     "data": {
      "text/plain": [
       "<matplotlib.image.AxesImage at 0x96d1cc0>"
      ]
     },
     "execution_count": 54,
     "metadata": {},
     "output_type": "execute_result"
    },
    {
     "data": {
      "image/png": "[encoded data removed]",
      "text/plain": [
       "<matplotlib.figure.Figure at 0x9651be0>"
      ]
     },
     "metadata": {},
     "output_type": "display_data"
    }
   ],
   "source": [
    "# Flatten the training and test images\n",
    "X_train_flatten = X_train_orig.reshape(X_train_orig.shape[0], -1).T\n",
    "X_test_flatten = X_test_orig.reshape(X_test_orig.shape[0], -1).T\n",
    "# Normalize image vectors\n",
    "X_train = X_train_flatten/255.\n",
    "X_test = X_test_flatten/255.\n",
    "# Convert training and test labels to one hot matrices\n",
    "Y_train = convert_to_one_hot(Y_train_orig, 6)\n",
    "Y_test = convert_to_one_hot(Y_test_orig, 6)\n",
    "\n",
    "print (\"number of training examples = \" + str(X_train.shape[1]))\n",
    "print (\"number of test examples = \" + str(X_test.shape[1]))\n",
    "print (\"X_train shape: \" + str(X_train.shape))\n",
    "print (\"Y_train shape: \" + str(Y_train.shape))\n",
    "print (\"X_test shape: \" + str(X_test.shape))\n",
    "print (\"Y_test shape: \" + str(Y_test.shape))\n",
    "print (Y_train)\n",
    "plt.imshow(X_train_orig[1])"
   ]
  },
  {
   "cell_type": "code",
   "execution_count": 55,
   "metadata": {
    "collapsed": true
   },
   "outputs": [],
   "source": [
    "'''## START CODE HERE ##\n",
    "my_image = \"my_image.jpg\" # change this to the name of your image file \n",
    "my_label_y = [1] # the true class of your image (1 -> cat, 0 -> non-cat)\n",
    "## END CODE HERE ##\n",
    "\n",
    "fname = \"images/\" + my_image\n",
    "image = np.array(ndimage.imread(fname, flatten=False))\n",
    "my_image = scipy.misc.imresize(image, size=(num_px,num_px)).reshape((num_px*num_px*3,1))\n",
    "my_predicted_image = predict(my_image, my_label_y, parameters)\n",
    "\n",
    "plt.imshow(image)'''\n",
    "\n",
    "def classify(image_loc, actual, parameters):\n",
    "    image = np.array(ndimage.imread(fname, flatten=False))\n",
    "    nimage = scipy.misc.imresize(image, size=(64,64)).reshape((64*64*3,1))\n",
    "    probs = predict(image, parameters)[0]\n",
    "    a = accuracy(probs, actual)\n",
    "    plt.imshow(image)\n",
    "    print (a[1])"
   ]
  },
  {
   "cell_type": "markdown",
   "metadata": {},
   "source": [
    "## Initialization"
   ]
  },
  {
   "cell_type": "code",
   "execution_count": 72,
   "metadata": {},
   "outputs": [],
   "source": [
    "def init_params_he(layers_dims):\n",
    "    np.random.seed(3)\n",
    "    parameters = {}\n",
    "    L = len(layers_dims) - 1\n",
    "     \n",
    "    for l in range(1, L + 1):\n",
    "        parameters['W' + str(l)] = np.random.randn(layers_dims[l], layers_dims[l-1])*np.sqrt(2/layers_dims[l-1])\n",
    "        parameters['b' + str(l)] = np.zeros((layers_dims[l], 1))\n",
    "\n",
    "        \n",
    "    return parameters\n",
    "\n",
    "def init_adam(parameters) :\n",
    "    L = len(parameters) // 2\n",
    "    v = {}\n",
    "    s = {}\n",
    "    \n",
    "    for l in range(L):\n",
    "        v[\"dW\" + str(l+1)] = np.zeros(parameters[\"W\" + str(l+1)].shape)\n",
    "        v[\"db\" + str(l+1)] = np.zeros(parameters[\"b\" + str(l+1)].shape)\n",
    "        s[\"dW\" + str(l+1)] = np.zeros(parameters[\"W\" + str(l+1)].shape)\n",
    "        s[\"db\" + str(l+1)] = np.zeros(parameters[\"b\" + str(l+1)].shape)\n",
    "    \n",
    "    return v, s\n",
    "def update_par(parameters, grads, learning_rate):\n",
    "    L = len(parameters)//2\n",
    "    for l in range(L):\n",
    "        parameters['W{0}'.format(l+1)] = parameters['W{0}'.format(l+1)] - learning_rate*grads['dW{0}'.format(l+1)]\n",
    "        parameters['b{0}'.format(l+1)] = parameters['b{0}'.format(l+1)] - learning_rate*grads['db{0}'.format(l+1)]\n",
    "    return parameters\n",
    "\n",
    "def update_parameters_with_adam(parameters, grads, v, s, t, learning_rate,\n",
    "                                beta1 = 0.9, beta2 = 0.999,  epsilon = 1e-8):\n",
    "    \n",
    "    L = len(parameters) // 2                 \n",
    "    v_corrected = {}                         \n",
    "    s_corrected = {}                         \n",
    "    learning_rate = learning_rate * np.sqrt(1-np.power(beta2, t))/(1-np.power(beta1, t))\n",
    "\n",
    "    for l in range(L):\n",
    "        v[\"dW\" + str(l+1)] = beta1*v[\"dW\" + str(l+1)] + (1-beta1)*grads[\"dW\" + str(l+1)]\n",
    "        v[\"db\" + str(l+1)] = beta1*v[\"db\" + str(l+1)] + (1-beta1)*grads[\"db\" + str(l+1)]\n",
    "\n",
    "        s[\"dW\" + str(l+1)] = beta2*s[\"dW\" + str(l+1)] + (1-beta2)*np.square(grads[\"dW\" + str(l+1)])\n",
    "        s[\"db\" + str(l+1)] = beta2*s[\"db\" + str(l+1)] + (1-beta2)*np.square(grads[\"db\" + str(l+1)])\n",
    "\n",
    "        parameters[\"W\" + str(l+1)] = parameters[\"W\" + str(l+1)] - learning_rate*np.divide(v[\"dW\"+str(l+1)],\n",
    "                                                                                          np.sqrt(s[\"dW\"+str(l+1)])+epsilon)\n",
    "        parameters[\"b\" + str(l+1)] = parameters[\"b\" + str(l+1)] - learning_rate*np.divide(v[\"db\"+str(l+1)],\n",
    "                                                                                          np.sqrt(s[\"db\"+str(l+1)])+epsilon)\n",
    "\n",
    "    return parameters, v, s\n",
    "\n",
    "def random_mini_batches(X, Y, mini_batch_size = 64, seed = 0):\n",
    " \n",
    "    np.random.seed(seed)            \n",
    "    m = X.shape[1]                 \n",
    "    mini_batches = []\n",
    "        \n",
    "    permutation = list(np.random.permutation(m))\n",
    "    shuffled_X = X[:, permutation]\n",
    "    shuffled_Y = Y[:, permutation].reshape((Y.shape[0],m))\n",
    "\n",
    "    num_complete_minibatches = math.floor(m/mini_batch_size)\n",
    "    for k in range(0, num_complete_minibatches):\n",
    "        mini_batch_X = shuffled_X[:,k*mini_batch_size:(k+1)*mini_batch_size]\n",
    "        mini_batch_Y = shuffled_Y[:,k*mini_batch_size:(k+1)*mini_batch_size]\n",
    "        mini_batch = (mini_batch_X, mini_batch_Y)\n",
    "        mini_batches.append(mini_batch)\n",
    "    \n",
    "    if m % mini_batch_size != 0:\n",
    "        mini_batch_X = shuffled_X[:,num_complete_minibatches*mini_batch_size:m+1]\n",
    "        mini_batch_Y = shuffled_Y[:,num_complete_minibatches*mini_batch_size:m+1]\n",
    "        mini_batch = (mini_batch_X, mini_batch_Y)\n",
    "        mini_batches.append(mini_batch)\n",
    "    \n",
    "    return mini_batches\n",
    "\n",
    "def dropout(A, keep_probs):\n",
    "    D = np.random.rand(A.shape[0], A.shape[1])\n",
    "    D = D<keep_probs\n",
    "    A *= D\n",
    "    A /= keep_probs\n",
    "    return A, D\n",
    "\n",
    "def reverse_dropout(dW, D, keep_probs):\n",
    "    return dW*D[:,:dW.shape[1]]/keep_probs\n",
    "\n",
    "def avg_grad(n_grads, c_grads, l):\n",
    "    n = {}\n",
    "    if c_grads:\n",
    "        for i in c_grads:\n",
    "            n[i] = (c_grads[:,:n_grads.shape[1]]*l + n_grads)/(l+1)\n",
    "        return n\n",
    "    else:\n",
    "        return n_grads"
   ]
  },
  {
   "cell_type": "code",
   "execution_count": 57,
   "metadata": {
    "collapsed": true
   },
   "outputs": [],
   "source": [
    "def sigmoid(x):\n",
    "    return 1/(1+np.exp(-x)), x\n",
    "def sigmoid_backward(dA, cache):\n",
    "    s = 1/(1+np.exp(-cache))\n",
    "    return dA*s*(1-s)\n",
    "def relu(x):\n",
    "    return np.maximum(0, x), x\n",
    "def relu_backward(dA, cache):\n",
    "    Z = cache\n",
    "    dZ = np.array(dA, copy=True)\n",
    "    dZ[Z<=0] = 0\n",
    "    return dZ\n",
    "def softmax(x):\n",
    "    exps = np.exp(x)\n",
    "    return exps/np.sum(exps, axis = 0, keepdims = True), x\n"
   ]
  },
  {
   "cell_type": "code",
   "execution_count": 66,
   "metadata": {
    "collapsed": true
   },
   "outputs": [],
   "source": [
    "def l_forward(A, W, b):\n",
    "    return W.dot(A)+b, (A,W,b)\n",
    "def lact_forward(A_prev, W, b, activation, keep_probs):\n",
    "    #A_prev, D = dropout(A_prev, keep_probs)\n",
    "    Z, l_cache = l_forward(A_prev, W, b)\n",
    "    if activation == 'relu':\n",
    "        A, a_cache = relu(Z)\n",
    "    elif activation == 'softmax':\n",
    "        A, a_cache = softmax(Z)\n",
    "    elif activation == 'sigmoid':\n",
    "        A, a_cache = sigmoid(Z)\n",
    "    A, D = dropout(A, keep_probs)\n",
    "    return A, (l_cache, a_cache, D)\n",
    "def L_forward(X, parameters, classification, keep_probs):\n",
    "    caches = []\n",
    "    D_cache = []\n",
    "    A = X\n",
    "    L = len(parameters)//2\n",
    "    for l in range(1, L):\n",
    "        A_prev = A\n",
    "        A, cache = lact_forward(A_prev, parameters['W{0}'.format(l)], parameters['b{0}'.format(l)], 'relu', keep_probs)\n",
    "        caches.append(cache)\n",
    "    AL, cache = lact_forward(A, parameters[\"W{0}\".format(L)], parameters[\"b{0}\".format(L)], classification, keep_probs = 1.0)\n",
    "    caches.append(cache)\n",
    "    return AL, caches"
   ]
  },
  {
   "cell_type": "code",
   "execution_count": 59,
   "metadata": {
    "collapsed": true
   },
   "outputs": [],
   "source": [
    "def l_backward(dZ, cache, lambd, m):\n",
    "    A_prev, W, b = cache\n",
    "    m = A_prev.shape[1]\n",
    "    if lambd:\n",
    "        dW = 1./m * np.dot(dZ, A_prev.T) + W*lambd/m\n",
    "    else:\n",
    "        dW = 1./m * np.dot(dZ, A_prev.T)\n",
    "    db = 1./m * np.sum(dZ, axis = 1, keepdims = True)\n",
    "    dA_prev = np.dot(W.T, dZ)\n",
    "    return dA_prev, dW, db\n",
    "def lact_backward(dA, cache, lambd, m, activation, keep_probs):\n",
    "    l_cache, a_cache, D = cache\n",
    "    if activation == 'sigmoid':\n",
    "        dZ = sigmoid_backward(dA, a_cache)\n",
    "    elif activation == 'relu':\n",
    "        dZ = relu_backward(dA, a_cache)\n",
    "    dA_prev, dW, db = l_backward(dZ, l_cache, lambd, m)\n",
    "    dW = reverse_dropout(dW, D, keep_probs)\n",
    "    return dA_prev, dW, db\n",
    "def L_backward(AL, Y, caches, lambd, m, classification, keep_probs):\n",
    "    grads = {}\n",
    "    L = len(caches)\n",
    "    m = AL.shape[1]\n",
    "    Y = Y.reshape(AL.shape)\n",
    "    current_cache = caches[L-1]\n",
    "    if classification == 'softmax':\n",
    "        dZ = (AL-Y)#/AL.shape[0]\n",
    "        grads[\"dA{0}\".format(L)], grads['dW{0}'.format(L)], grads['db{0}'.format(L)] = l_backward(dZ, current_cache[0], \n",
    "                                                                                                  lambd, m)\n",
    "    elif classification == 'sigmoid':\n",
    "        dAL = - (np.divide(Y,AL) - np.divide(1-Y, 1-AL))\n",
    "        grads[\"dA{0}\".format(L)], grads['dW{0}'.format(L)], grads['db{0}'.format(L)] = lact_backward(dAL, current_cache, \n",
    "                                                                                                     'sigmoid', lambd, m)\n",
    "    for l in reversed(range(L-1)):\n",
    "        current_cache = caches[l]\n",
    "        grads['dA{0}'.format(l+1)], grads['dW{0}'.format(l+1)], grads['db{0}'.format(l+1)] = lact_backward(grads['dA{0}'.format(l+2)], \n",
    "                                                                                                           current_cache,\n",
    "                                                                                                           lambd, m, \n",
    "                                                                                                           activation = 'relu',\n",
    "                                                                                                           keep_probs = keep_probs)\n",
    "    return grads"
   ]
  },
  {
   "cell_type": "code",
   "execution_count": 60,
   "metadata": {
    "collapsed": true
   },
   "outputs": [],
   "source": [
    "def predict(inp, parameters):\n",
    "    probs, weights= L_forward(inp, parameters, classification = 'softmax')\n",
    "    return (probs==probs.max(axis = 0, keepdims=1)).astype(float), weights\n",
    "def accuracy(preds, actual):\n",
    "    return sum(sum(preds == actual)==preds.shape[0])/preds.shape[1], preds\n",
    "def compute_cost(preds, actual):\n",
    "    ind = np.argmax(actual, axis = 0)\n",
    "    log_probs = np.log(np.choose(ind, preds))\n",
    "    return -1*np.sum(log_probs)/len(log_probs)\n",
    "def l2_loss(params, lambd):\n",
    "    weight_loss = []\n",
    "    for i in range(len(params)//2):\n",
    "        weight_loss.append(0.5*lambd*np.sum(np.square(params['W{0}'.format(i+1)])))\n",
    "    return sum(weight_loss)"
   ]
  },
  {
   "cell_type": "code",
   "execution_count": 64,
   "metadata": {},
   "outputs": [],
   "source": [
    "def L_model(X, Y, X_test, Y_test, layer_dims, mini_batch_size = 32, learning_rate = 0.0075, \n",
    "            beta1 = 0.9, beta2 = 0.999, epsilon = 1e-8, epoch = 3000, keep_probs = 0.5,\n",
    "            lambd = 0.1, print_cost=True, plot=True, classification = 'sigmoid'):\n",
    "    print\n",
    "    np.random.seed(1)\n",
    "    costs = []\n",
    "    ac = []\n",
    "    parameters = init_params_he(layer_dims)\n",
    "    v, s = init_adam(parameters)\n",
    "    t = 0\n",
    "    seed = 10\n",
    "    for i in range(epoch):\n",
    "        seed += 1\n",
    "        minibatches = random_mini_batches(X, Y, mini_batch_size, seed)\n",
    "        c_grads = None\n",
    "        for l, minibatch in enumerate(minibatches):\n",
    "            (minibatch_X, minibatch_Y) = minibatch\n",
    "            AL, caches = L_forward(minibatch_X, parameters, classification, keep_probs)\n",
    "            c = compute_cost(AL, minibatch_Y)\n",
    "            if lambd:\n",
    "                c += l2_loss(parameters, lambd)\n",
    "            c_grads = avg_grad(L_backward(AL, minibatch_Y, caches, lambd, minibatch_X.shape[1], classification, keep_probs), c_grads, l)\n",
    "            t+=1\n",
    "            parameters, v, s = update_parameters_with_adam(parameters, c_grads, v, s, t, learning_rate, beta1, beta2,  epsilon)\n",
    "        if print_cost and i%20==0:\n",
    "            print (\"Cost after epoch {0}: {1}\".format(i, c))\n",
    "            costs.append(c)\n",
    "            ac_train = accuracy(predict(X, parameters)[0], Y)[0]\n",
    "            ac_test = accuracy(predict(X_test, parameters)[0], Y_test)[0]\n",
    "            print (\"Training Set Accuracy after epoch {0}: {1}\".format(i, ac_train))\n",
    "            print (\"Test Set Accuracy after epoch {0}: {1}\".format(i, ac_test))\n",
    "            ac.append(ac_train)\n",
    "    # plot the cost\n",
    "    if plot:\n",
    "        plt.plot(np.squeeze(costs))\n",
    "        plt.ylabel('cost')\n",
    "        plt.xlabel('iterations (per tens)')\n",
    "        plt.title(\"Learning rate =\" + str(learning_rate))\n",
    "        plt.show()\n",
    "        plt.plot(ac)\n",
    "        plt.ylabel('Accuracy Score')\n",
    "        plt.xlabel('iterations (per tens)')\n",
    "        plt.title(\"Learning rate =\" + str(learning_rate))\n",
    "        plt.show()\n",
    "    return parameters"
   ]
  },
  {
   "cell_type": "code",
   "execution_count": 73,
   "metadata": {},
   "outputs": [
    {
     "ename": "ValueError",
     "evalue": "operands could not be broadcast together with shapes (25,12288) (25,32) ",
     "output_type": "error",
     "traceback": [
      "\u001b[1;31m---------------------------------------------------------------------------\u001b[0m",
      "\u001b[1;31mValueError\u001b[0m                                Traceback (most recent call last)",
      "\u001b[1;32m<ipython-input-73-be06e99bd407>\u001b[0m in \u001b[0;36m<module>\u001b[1;34m()\u001b[0m\n\u001b[0;32m      1\u001b[0m p = L_model(X_train, Y_train, X_test, Y_test, mini_batch_size = 32, learning_rate = 0.0001, epoch = 3000, \n\u001b[0;32m      2\u001b[0m             \u001b[0mlayer_dims\u001b[0m \u001b[1;33m=\u001b[0m \u001b[1;33m[\u001b[0m\u001b[1;36m12288\u001b[0m\u001b[1;33m,\u001b[0m \u001b[1;36m25\u001b[0m\u001b[1;33m,\u001b[0m \u001b[1;36m12\u001b[0m\u001b[1;33m,\u001b[0m \u001b[1;36m6\u001b[0m\u001b[1;33m]\u001b[0m\u001b[1;33m,\u001b[0m\u001b[1;33m\u001b[0m\u001b[0m\n\u001b[1;32m----> 3\u001b[1;33m             classification = 'softmax', lambd = None)\n\u001b[0m",
      "\u001b[1;32m<ipython-input-64-98c1e551020d>\u001b[0m in \u001b[0;36mL_model\u001b[1;34m(X, Y, X_test, Y_test, layer_dims, mini_batch_size, learning_rate, beta1, beta2, epsilon, epoch, keep_probs, lambd, print_cost, plot, classification)\u001b[0m\n\u001b[0;32m     20\u001b[0m             \u001b[1;32mif\u001b[0m \u001b[0mlambd\u001b[0m\u001b[1;33m:\u001b[0m\u001b[1;33m\u001b[0m\u001b[0m\n\u001b[0;32m     21\u001b[0m                 \u001b[0mc\u001b[0m \u001b[1;33m+=\u001b[0m \u001b[0ml2_loss\u001b[0m\u001b[1;33m(\u001b[0m\u001b[0mparameters\u001b[0m\u001b[1;33m,\u001b[0m \u001b[0mlambd\u001b[0m\u001b[1;33m)\u001b[0m\u001b[1;33m\u001b[0m\u001b[0m\n\u001b[1;32m---> 22\u001b[1;33m             \u001b[0mc_grads\u001b[0m \u001b[1;33m=\u001b[0m \u001b[0mavg_grad\u001b[0m\u001b[1;33m(\u001b[0m\u001b[0mL_backward\u001b[0m\u001b[1;33m(\u001b[0m\u001b[0mAL\u001b[0m\u001b[1;33m,\u001b[0m \u001b[0mminibatch_Y\u001b[0m\u001b[1;33m,\u001b[0m \u001b[0mcaches\u001b[0m\u001b[1;33m,\u001b[0m \u001b[0mlambd\u001b[0m\u001b[1;33m,\u001b[0m \u001b[0mminibatch_X\u001b[0m\u001b[1;33m.\u001b[0m\u001b[0mshape\u001b[0m\u001b[1;33m[\u001b[0m\u001b[1;36m1\u001b[0m\u001b[1;33m]\u001b[0m\u001b[1;33m,\u001b[0m \u001b[0mclassification\u001b[0m\u001b[1;33m,\u001b[0m \u001b[0mkeep_probs\u001b[0m\u001b[1;33m)\u001b[0m\u001b[1;33m,\u001b[0m \u001b[0mc_grads\u001b[0m\u001b[1;33m,\u001b[0m \u001b[0ml\u001b[0m\u001b[1;33m)\u001b[0m\u001b[1;33m\u001b[0m\u001b[0m\n\u001b[0m\u001b[0;32m     23\u001b[0m             \u001b[0mt\u001b[0m\u001b[1;33m+=\u001b[0m\u001b[1;36m1\u001b[0m\u001b[1;33m\u001b[0m\u001b[0m\n\u001b[0;32m     24\u001b[0m             \u001b[0mparameters\u001b[0m\u001b[1;33m,\u001b[0m \u001b[0mv\u001b[0m\u001b[1;33m,\u001b[0m \u001b[0ms\u001b[0m \u001b[1;33m=\u001b[0m \u001b[0mupdate_parameters_with_adam\u001b[0m\u001b[1;33m(\u001b[0m\u001b[0mparameters\u001b[0m\u001b[1;33m,\u001b[0m \u001b[0mc_grads\u001b[0m\u001b[1;33m,\u001b[0m \u001b[0mv\u001b[0m\u001b[1;33m,\u001b[0m \u001b[0ms\u001b[0m\u001b[1;33m,\u001b[0m \u001b[0mt\u001b[0m\u001b[1;33m,\u001b[0m \u001b[0mlearning_rate\u001b[0m\u001b[1;33m,\u001b[0m \u001b[0mbeta1\u001b[0m\u001b[1;33m,\u001b[0m \u001b[0mbeta2\u001b[0m\u001b[1;33m,\u001b[0m  \u001b[0mepsilon\u001b[0m\u001b[1;33m)\u001b[0m\u001b[1;33m\u001b[0m\u001b[0m\n",
      "\u001b[1;32m<ipython-input-59-0f932a22e56d>\u001b[0m in \u001b[0;36mL_backward\u001b[1;34m(AL, Y, caches, lambd, m, classification, keep_probs)\u001b[0m\n\u001b[0;32m     38\u001b[0m                                                                                                            \u001b[0mlambd\u001b[0m\u001b[1;33m,\u001b[0m \u001b[0mm\u001b[0m\u001b[1;33m,\u001b[0m\u001b[1;33m\u001b[0m\u001b[0m\n\u001b[0;32m     39\u001b[0m                                                                                                            \u001b[0mactivation\u001b[0m \u001b[1;33m=\u001b[0m \u001b[1;34m'relu'\u001b[0m\u001b[1;33m,\u001b[0m\u001b[1;33m\u001b[0m\u001b[0m\n\u001b[1;32m---> 40\u001b[1;33m                                                                                                            keep_probs = keep_probs)\n\u001b[0m\u001b[0;32m     41\u001b[0m     \u001b[1;32mreturn\u001b[0m \u001b[0mgrads\u001b[0m\u001b[1;33m\u001b[0m\u001b[0m\n",
      "\u001b[1;32m<ipython-input-59-0f932a22e56d>\u001b[0m in \u001b[0;36mlact_backward\u001b[1;34m(dA, cache, lambd, m, activation, keep_probs)\u001b[0m\n\u001b[0;32m     16\u001b[0m         \u001b[0mdZ\u001b[0m \u001b[1;33m=\u001b[0m \u001b[0mrelu_backward\u001b[0m\u001b[1;33m(\u001b[0m\u001b[0mdA\u001b[0m\u001b[1;33m,\u001b[0m \u001b[0ma_cache\u001b[0m\u001b[1;33m)\u001b[0m\u001b[1;33m\u001b[0m\u001b[0m\n\u001b[0;32m     17\u001b[0m     \u001b[0mdA_prev\u001b[0m\u001b[1;33m,\u001b[0m \u001b[0mdW\u001b[0m\u001b[1;33m,\u001b[0m \u001b[0mdb\u001b[0m \u001b[1;33m=\u001b[0m \u001b[0ml_backward\u001b[0m\u001b[1;33m(\u001b[0m\u001b[0mdZ\u001b[0m\u001b[1;33m,\u001b[0m \u001b[0ml_cache\u001b[0m\u001b[1;33m,\u001b[0m \u001b[0mlambd\u001b[0m\u001b[1;33m,\u001b[0m \u001b[0mm\u001b[0m\u001b[1;33m)\u001b[0m\u001b[1;33m\u001b[0m\u001b[0m\n\u001b[1;32m---> 18\u001b[1;33m     \u001b[0mdW\u001b[0m \u001b[1;33m=\u001b[0m \u001b[0mreverse_dropout\u001b[0m\u001b[1;33m(\u001b[0m\u001b[0mdW\u001b[0m\u001b[1;33m,\u001b[0m \u001b[0mD\u001b[0m\u001b[1;33m,\u001b[0m \u001b[0mkeep_probs\u001b[0m\u001b[1;33m)\u001b[0m\u001b[1;33m\u001b[0m\u001b[0m\n\u001b[0m\u001b[0;32m     19\u001b[0m     \u001b[1;32mreturn\u001b[0m \u001b[0mdA_prev\u001b[0m\u001b[1;33m,\u001b[0m \u001b[0mdW\u001b[0m\u001b[1;33m,\u001b[0m \u001b[0mdb\u001b[0m\u001b[1;33m\u001b[0m\u001b[0m\n\u001b[0;32m     20\u001b[0m \u001b[1;32mdef\u001b[0m \u001b[0mL_backward\u001b[0m\u001b[1;33m(\u001b[0m\u001b[0mAL\u001b[0m\u001b[1;33m,\u001b[0m \u001b[0mY\u001b[0m\u001b[1;33m,\u001b[0m \u001b[0mcaches\u001b[0m\u001b[1;33m,\u001b[0m \u001b[0mlambd\u001b[0m\u001b[1;33m,\u001b[0m \u001b[0mm\u001b[0m\u001b[1;33m,\u001b[0m \u001b[0mclassification\u001b[0m\u001b[1;33m,\u001b[0m \u001b[0mkeep_probs\u001b[0m\u001b[1;33m)\u001b[0m\u001b[1;33m:\u001b[0m\u001b[1;33m\u001b[0m\u001b[0m\n",
      "\u001b[1;32m<ipython-input-72-44e07d17a27a>\u001b[0m in \u001b[0;36mreverse_dropout\u001b[1;34m(dW, D, keep_probs)\u001b[0m\n\u001b[0;32m     85\u001b[0m \u001b[1;33m\u001b[0m\u001b[0m\n\u001b[0;32m     86\u001b[0m \u001b[1;32mdef\u001b[0m \u001b[0mreverse_dropout\u001b[0m\u001b[1;33m(\u001b[0m\u001b[0mdW\u001b[0m\u001b[1;33m,\u001b[0m \u001b[0mD\u001b[0m\u001b[1;33m,\u001b[0m \u001b[0mkeep_probs\u001b[0m\u001b[1;33m)\u001b[0m\u001b[1;33m:\u001b[0m\u001b[1;33m\u001b[0m\u001b[0m\n\u001b[1;32m---> 87\u001b[1;33m     \u001b[1;32mreturn\u001b[0m \u001b[0mdW\u001b[0m\u001b[1;33m*\u001b[0m\u001b[0mD\u001b[0m\u001b[1;33m[\u001b[0m\u001b[1;33m:\u001b[0m\u001b[1;33m,\u001b[0m\u001b[1;33m:\u001b[0m\u001b[0mdW\u001b[0m\u001b[1;33m.\u001b[0m\u001b[0mshape\u001b[0m\u001b[1;33m[\u001b[0m\u001b[1;36m1\u001b[0m\u001b[1;33m]\u001b[0m\u001b[1;33m]\u001b[0m\u001b[1;33m/\u001b[0m\u001b[0mkeep_probs\u001b[0m\u001b[1;33m\u001b[0m\u001b[0m\n\u001b[0m\u001b[0;32m     88\u001b[0m \u001b[1;33m\u001b[0m\u001b[0m\n\u001b[0;32m     89\u001b[0m \u001b[1;32mdef\u001b[0m \u001b[0mavg_grad\u001b[0m\u001b[1;33m(\u001b[0m\u001b[0mn_grads\u001b[0m\u001b[1;33m,\u001b[0m \u001b[0mc_grads\u001b[0m\u001b[1;33m,\u001b[0m \u001b[0ml\u001b[0m\u001b[1;33m)\u001b[0m\u001b[1;33m:\u001b[0m\u001b[1;33m\u001b[0m\u001b[0m\n",
      "\u001b[1;31mValueError\u001b[0m: operands could not be broadcast together with shapes (25,12288) (25,32) "
     ]
    }
   ],
   "source": [
    "p = L_model(X_train, Y_train, X_test, Y_test, mini_batch_size = 32, learning_rate = 0.0001, epoch = 3000, \n",
    "            layer_dims = [12288, 25, 12, 6], \n",
    "            classification = 'softmax', lambd = None)"
   ]
  },
  {
   "cell_type": "markdown",
   "metadata": {
    "collapsed": true
   },
   "source": [
    "## Testing Round"
   ]
  },
  {
   "cell_type": "code",
   "execution_count": 74,
   "metadata": {
    "collapsed": true
   },
   "outputs": [],
   "source": [
    "t_p = init_params_he([10, 7, 4, 2])"
   ]
  },
  {
   "cell_type": "code",
   "execution_count": 75,
   "metadata": {},
   "outputs": [
    {
     "data": {
      "text/plain": [
       "{'W1': array([[ 0.79989897,  0.19521314,  0.04315498, -0.83337927, -0.12405178,\n",
       "         -0.15865304, -0.03700312, -0.28040323, -0.01959608, -0.21341839],\n",
       "        [-0.58757818,  0.39561516,  0.39413741,  0.76454432,  0.02237573,\n",
       "         -0.18097724, -0.24389238, -0.69160568,  0.43932807, -0.49241241],\n",
       "        [-0.52996892, -0.09196943,  0.66462575,  0.10586273, -0.45785063,\n",
       "         -0.31886025,  0.27961805, -0.07178376, -0.34383407, -0.10287287],\n",
       "        [ 0.33319929,  0.88374361, -0.55638887, -0.28014216, -0.35945513,\n",
       "         -1.08184688, -0.41313235, -0.45789116,  0.50265822, -0.05899384],\n",
       "        [-0.72595532,  0.28920205, -0.15932913, -0.77955637, -0.26682983,\n",
       "         -0.26322741, -0.39081204,  0.01328842, -1.00545144, -0.11974675],\n",
       "        [ 0.45310941,  0.38138279,  0.49559652,  0.50060672,  0.66524951,\n",
       "         -0.50011927,  0.3782682 , -0.8322151 , -0.26961842, -0.85617793],\n",
       "        [ 0.46874582,  0.59646569, -0.08828653,  0.79364539, -0.30174732,\n",
       "          0.06735791,  0.0683994 , -0.47592259,  0.19585568,  0.86713753]]),\n",
       " 'W2': array([[-0.5478486 ,  0.48071662, -0.08258739,  0.94590558,  0.25859575,\n",
       "          0.36145287,  0.34378523],\n",
       "        [ 0.13314245, -0.74606697,  0.74387511, -0.73265341,  0.12751739,\n",
       "          0.32823801, -0.44788295],\n",
       "        [ 0.07753955,  0.62425934, -0.01288438, -0.47500737, -1.55852739,\n",
       "         -0.5194706 , -0.31594488],\n",
       "        [-0.27603669, -0.51313954,  0.20167279, -0.30719457, -0.0585058 ,\n",
       "          0.36297904, -0.4572504 ]]),\n",
       " 'W3': array([[-0.21227775,  1.52604203,  0.61821336, -0.91466852],\n",
       "        [-0.05638536,  0.39915154,  0.87219574,  0.10534929]]),\n",
       " 'b1': array([[ 0.],\n",
       "        [ 0.],\n",
       "        [ 0.],\n",
       "        [ 0.],\n",
       "        [ 0.],\n",
       "        [ 0.],\n",
       "        [ 0.]]),\n",
       " 'b2': array([[ 0.],\n",
       "        [ 0.],\n",
       "        [ 0.],\n",
       "        [ 0.]]),\n",
       " 'b3': array([[ 0.],\n",
       "        [ 0.]])}"
      ]
     },
     "execution_count": 75,
     "metadata": {},
     "output_type": "execute_result"
    }
   ],
   "source": [
    "t_x = "
   ]
  },
  {
   "cell_type": "code",
   "execution_count": null,
   "metadata": {
    "collapsed": true
   },
   "outputs": [],
   "source": []
  }
 ],
 "metadata": {
  "kernelspec": {
   "display_name": "Python 3",
   "language": "python",
   "name": "python3"
  },
  "language_info": {
   "codemirror_mode": {
    "name": "ipython",
    "version": 3
   },
   "file_extension": ".py",
   "mimetype": "text/x-python",
   "name": "python",
   "nbconvert_exporter": "python",
   "pygments_lexer": "ipython3",
   "version": "3.6.2"
  }
 },
 "nbformat": 4,
 "nbformat_minor": 2
}
